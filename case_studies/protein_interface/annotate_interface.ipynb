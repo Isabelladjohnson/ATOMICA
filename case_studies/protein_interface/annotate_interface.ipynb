{
 "cells": [
  {
   "cell_type": "code",
   "execution_count": null,
   "metadata": {},
   "outputs": [],
   "source": [
    "import pickle\n",
    "import os \n",
    "import sys\n",
    "import torch\n",
    "current_directory = os.getcwd()\n",
    "parent_directory = os.path.dirname(os.path.dirname(current_directory))\n",
    "sys.path.insert(0, parent_directory)\n",
    "from data.dataset import PDBDataset\n",
    "from models.classifier_model import ClassifierModel\n",
    "from trainers.abs_trainer import Trainer"
   ]
  },
  {
   "cell_type": "code",
   "execution_count": null,
   "metadata": {},
   "outputs": [],
   "source": [
    "dataset_path = \"\" # path to .pkl file of binding sites predicted by PeSTo\n",
    "model_ckpt = \"\" # path to model ckpt, that is specific to a ligand\n",
    "\n",
    "pion_model = torch.load(model_ckpt, map_location='cuda')\n",
    "batch_size = 16\n",
    "\n",
    "with open(dataset_path, \"rb\") as f:\n",
    "    test_dataset = pickle.load(f)\n",
    "\n",
    "predicted = []\n",
    "for i in range(0, len(test_dataset), batch_size):\n",
    "    end = min(i+batch_size, len(test_dataset))\n",
    "    batch = PDBDataset.collate_fn([test_dataset[j]['data'] for j in range(i, end)])\n",
    "    batch = Trainer.to_device(batch, 'cuda')\n",
    "    output = pion_model.infer(batch).detach().cpu()\n",
    "    predicted.append(output)\n",
    "predicted = torch.cat(predicted, dim=0).squeeze()\n"
   ]
  }
 ],
 "metadata": {
  "language_info": {
   "name": "python"
  }
 },
 "nbformat": 4,
 "nbformat_minor": 2
}
