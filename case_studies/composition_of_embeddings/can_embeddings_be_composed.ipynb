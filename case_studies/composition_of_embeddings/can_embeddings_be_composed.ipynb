{
 "cells": [
  {
   "cell_type": "markdown",
   "metadata": {},
   "source": [
    "Given the same ligand, can you do arithmetic \n",
    "(protein-ligand complex embedding) - (protein embedding) + (new protein embedding) = (new protein-ligand complex embedding) ?"
   ]
  },
  {
   "cell_type": "code",
   "execution_count": 1,
   "metadata": {},
   "outputs": [
    {
     "name": "stdout",
     "output_type": "stream",
     "text": [
      "/n/holylabs/LABS/mzitnik_lab/Users/afang/GET\n"
     ]
    }
   ],
   "source": [
    "import os\n",
    "import sys\n",
    "\n",
    "# Get the current notebook's directory\n",
    "current_directory = os.getcwd()\n",
    "\n",
    "# Get the parent directory\n",
    "parent_directory = os.path.dirname(os.path.dirname(current_directory))\n",
    "\n",
    "# Add the parent directory to the module search path\n",
    "sys.path.insert(0, parent_directory)\n",
    "print(parent_directory)"
   ]
  },
  {
   "cell_type": "code",
   "execution_count": 2,
   "metadata": {},
   "outputs": [
    {
     "name": "stderr",
     "output_type": "stream",
     "text": [
      "/n/home13/afang/.conda/envs/interactenv1/lib/python3.9/site-packages/tqdm/auto.py:21: TqdmWarning: IProgress not found. Please update jupyter and ipywidgets. See https://ipywidgets.readthedocs.io/en/stable/user_install.html\n",
      "  from .autonotebook import tqdm as notebook_tqdm\n"
     ]
    }
   ],
   "source": [
    "from data.converter.pdb_to_list_blocks import pdb_to_list_blocks\n",
    "from data.converter.sm_pdb_to_blocks import sm_pdb_to_blocks\n",
    "import data.dataset\n",
    "from data.atom3d_dataset import LBADataset\n",
    "import models\n",
    "import torch\n",
    "from trainers.abs_trainer import Trainer\n",
    "import importlib\n",
    "import matplotlib.pyplot as plt\n",
    "from torch.utils.data import DataLoader\n",
    "from tqdm import tqdm\n",
    "import numpy as np\n",
    "from models import DenoisePretrainModel, AffinityPredictor\n",
    "from rdkit import Chem\n",
    "from rdkit.Chem import AllChem, DataStructs\n",
    "import itertools\n",
    "import random\n",
    "import scipy\n",
    "from torch_scatter import scatter_sum"
   ]
  },
  {
   "cell_type": "code",
   "execution_count": 3,
   "metadata": {},
   "outputs": [],
   "source": [
    "import importlib\n",
    "importlib.reload(data.dataset)\n",
    "from data.dataset import VOCAB\n",
    "from data.dataset import blocks_interface, blocks_to_data\n",
    "from data.dataset import BlockGeoAffDataset, PDBBindBenchmark, DynamicBatchWrapper"
   ]
  },
  {
   "cell_type": "code",
   "execution_count": 4,
   "metadata": {},
   "outputs": [
    {
     "name": "stdout",
     "output_type": "stream",
     "text": [
      "fragmentation False\n",
      "2024-02-22 10:25:54::INFO::Loading preprocessed data from /n/holylabs/LABS/mzitnik_lab/Users/afang/GET/datasets/LBA/split-by-sequence-identity-30/train.LBADataset_processed.pkl...\n"
     ]
    }
   ],
   "source": [
    "dataset = LBADataset(\"/n/holylabs/LABS/mzitnik_lab/Users/afang/GET/datasets/LBA/split-by-sequence-identity-30/train\")"
   ]
  },
  {
   "cell_type": "code",
   "execution_count": 5,
   "metadata": {},
   "outputs": [
    {
     "data": {
      "text/plain": [
       "31"
      ]
     },
     "execution_count": 5,
     "metadata": {},
     "output_type": "execute_result"
    }
   ],
   "source": [
    "with open(\"adp_pdbs.txt\", \"r\") as f:\n",
    "    proteins = f.read().split(\"\\n\")\n",
    "len(set(proteins))"
   ]
  },
  {
   "cell_type": "code",
   "execution_count": 6,
   "metadata": {},
   "outputs": [
    {
     "data": {
      "text/plain": [
       "28"
      ]
     },
     "execution_count": 6,
     "metadata": {},
     "output_type": "execute_result"
    }
   ],
   "source": [
    "protein_dataset = []\n",
    "for d in dataset:\n",
    "    if d[\"id\"] not in proteins:\n",
    "        continue\n",
    "    protein_dataset.append(d)\n",
    "proteins = [d[\"id\"] for d in protein_dataset]\n",
    "len(proteins)"
   ]
  },
  {
   "cell_type": "code",
   "execution_count": 7,
   "metadata": {},
   "outputs": [],
   "source": [
    "pretrain_ckpt = \"/n/holyscratch01/mzitnik_lab/afang/GET/datasets/LBA/split-by-sequence-identity-30/models/InteractNN/version_112/checkpoint/epoch144_step61190.ckpt\"\n",
    "\n",
    "# NOTE if you want to load a pretrained checkpoint i.e. a Denoise Pretrain Model you need to turn it into an AffinityPredictor\n",
    "# this is so that the perturb function is turned off otherwise it will perturb the input and the output will be garbage\n",
    "\n",
    "# pretrain_ckpt = \"/n/holyscratch01/mzitnik_lab/afang/GET/pretrain/models/InteractNN-global/version_76/checkpoint/epoch8_step690593.ckpt\" # pretrained only\n",
    "# pretrain_ckpt = \"/n/holyscratch01/mzitnik_lab/afang/GET/datasets/LBA/split-by-sequence-identity-30/models/InteractNN/version_104/checkpoint/epoch129_step54860.ckpt\" # partial finetuned from the 4 day long pretraining run with global nodes\n",
    "# \"/n/holyscratch01/mzitnik_lab/afang/GET/datasets/LBA/split-by-sequence-identity-30/models/InteractNN/version_98/checkpoint/epoch109_step46420.ckpt\" # finetuned from the 4 day long pretraining run\n",
    "# \"/n/holyscratch01/mzitnik_lab/afang/GET/datasets/LBA/split-by-sequence-identity-30/models/InteractNN/version_89/checkpoint/epoch69_step29470.ckpt\" # finetuned from QBioLIP\n",
    "model = torch.load(pretrain_ckpt, map_location='cpu')\n",
    "model = model.to(\"cuda\")"
   ]
  },
  {
   "cell_type": "code",
   "execution_count": 8,
   "metadata": {},
   "outputs": [],
   "source": [
    "embeddings = {}\n",
    "ligand_embeddings = {}\n",
    "pocket_embeddings = {}\n",
    "pred_labels = {}\n",
    "true_labels = {}\n",
    "batch_size = 8\n",
    "for i in range(0, len(protein_dataset), batch_size):\n",
    "    model.eval()\n",
    "    with torch.no_grad():\n",
    "        minibatch = LBADataset.collate_fn(protein_dataset[i:i+batch_size])\n",
    "        pdb_ids = [d[\"id\"] for d in protein_dataset[i:i+batch_size]]\n",
    "        minibatch = Trainer.to_device(minibatch, \"cuda\")\n",
    "        if type(model) is AffinityPredictor:\n",
    "            pred_binding_affinity, output = model.infer(minibatch, extra_info=True)\n",
    "        else:\n",
    "            output = model(\n",
    "                Z=minibatch['X'], B=minibatch['B'], A=minibatch['A'],\n",
    "                atom_positions=minibatch['atom_positions'],\n",
    "                block_lengths=minibatch['block_lengths'],\n",
    "                lengths=minibatch['lengths'],\n",
    "                segment_ids=minibatch['segment_ids'],\n",
    "                label=None\n",
    "            )\n",
    "            pred_binding_affinity = [None for _ in range(len(pdb_ids))]\n",
    "        \n",
    "        batch_id = torch.zeros_like(minibatch[\"segment_ids\"])  # [Nb]\n",
    "        batch_id[torch.cumsum(minibatch[\"lengths\"], dim=0)[:-1]] = 1\n",
    "        batch_id.cumsum_(dim=0)  # [Nb], item idx in the batch\n",
    "        for idx, pdb_id in enumerate(pdb_ids):\n",
    "            embeddings[pdb_id] = output.graph_repr[idx].cpu().numpy()\n",
    "            ligand_embeddings[pdb_id] = output.block_repr[torch.logical_and(batch_id == idx, minibatch[\"segment_ids\"] == 1)].cpu().numpy().mean(axis=0)\n",
    "            pocket_embeddings[pdb_id] = output.block_repr[torch.logical_and(batch_id == idx, minibatch[\"segment_ids\"] == 0)].cpu().numpy().mean(axis=0)\n",
    "            pred_labels[pdb_id] = pred_binding_affinity[idx].cpu().numpy() if pred_binding_affinity[idx] is not None else None\n",
    "            true_labels[pdb_id] = minibatch[\"label\"][idx].cpu().numpy()"
   ]
  },
  {
   "cell_type": "code",
   "execution_count": 9,
   "metadata": {},
   "outputs": [],
   "source": [
    "pocket_only_embeddings = {}\n",
    "\n",
    "for i in range(0, len(protein_dataset), batch_size):\n",
    "    model.eval()\n",
    "    with torch.no_grad():\n",
    "        minibatch_ = [BlockGeoAffDataset.filter_for_segment(d, 0) for d in protein_dataset[i:i+batch_size]]\n",
    "        minibatch = LBADataset.collate_fn(minibatch_)\n",
    "        pdb_ids = [d[\"id\"] for d in protein_dataset[i:i+batch_size]]\n",
    "        minibatch = Trainer.to_device(minibatch, \"cuda\")\n",
    "\n",
    "        if type(model) is AffinityPredictor:\n",
    "            pred_binding_affinity, output = model.infer(minibatch, extra_info=True)\n",
    "        else:\n",
    "            output = model(\n",
    "                Z=minibatch['X'], B=minibatch['B'], A=minibatch['A'],\n",
    "                atom_positions=minibatch['atom_positions'],\n",
    "                block_lengths=minibatch['block_lengths'],\n",
    "                lengths=minibatch['lengths'],\n",
    "                segment_ids=minibatch['segment_ids'],\n",
    "                label=None\n",
    "            )\n",
    "            pred_binding_affinity = [None for _ in range(len(pdb_ids))]\n",
    "        for idx, pdb_id in enumerate(pdb_ids):\n",
    "            pocket_only_embeddings[pdb_id] = output.graph_repr[idx].cpu().numpy()"
   ]
  },
  {
   "cell_type": "code",
   "execution_count": 10,
   "metadata": {},
   "outputs": [
    {
     "data": {
      "text/plain": [
       "28"
      ]
     },
     "execution_count": 10,
     "metadata": {},
     "output_type": "execute_result"
    }
   ],
   "source": [
    "len(pocket_only_embeddings)"
   ]
  },
  {
   "cell_type": "code",
   "execution_count": 18,
   "metadata": {},
   "outputs": [],
   "source": [
    "pairs = list(itertools.combinations(pocket_only_embeddings.keys(), 2))\n",
    "dist_construct = []\n",
    "dist_rand = []\n",
    "dist_pockets = []\n",
    "for p1, p2 in pairs:\n",
    "    p1_cmplx = embeddings[p1]\n",
    "    p2_cmplx = embeddings[p2]\n",
    "    p1_prot = pocket_only_embeddings[p1]\n",
    "    p2_prot = pocket_only_embeddings[p2]\n",
    "\n",
    "    p1_cmplx_construct = p1_cmplx - p1_prot + p2_prot\n",
    "    p2_cmplx_construct = p2_cmplx - p2_prot + p1_prot\n",
    "\n",
    "    rand_p1_cmplx = np.random.normal(size=p1_cmplx.shape)\n",
    "    rand_p2_cmplx = np.random.normal(size=p2_cmplx.shape)\n",
    "\n",
    "    # rand_p1_cmplx = np.mean(list(embeddings.values()), axis=0)\n",
    "    # rand_p2_cmplx = np.mean(list(embeddings.values()), axis=0)\n",
    "\n",
    "    dist_construct.append(np.linalg.norm(p1_cmplx_construct - p1_cmplx))\n",
    "    dist_construct.append(np.linalg.norm(p2_cmplx_construct - p2_cmplx))\n",
    "    dist_rand.append(np.linalg.norm(p1_cmplx - rand_p1_cmplx))\n",
    "    dist_rand.append(np.linalg.norm(p2_cmplx - rand_p2_cmplx))\n",
    "    dist_pockets.append(np.linalg.norm(p1_prot - p2_prot))\n",
    "                          "
   ]
  },
  {
   "cell_type": "code",
   "execution_count": 19,
   "metadata": {},
   "outputs": [
    {
     "data": {
      "image/png": "[encoded data removed]",
      "text/plain": [
       "<Figure size 640x480 with 1 Axes>"
      ]
     },
     "metadata": {},
     "output_type": "display_data"
    }
   ],
   "source": [
    "plt.hist(dist_construct, bins=50)\n",
    "# plt.hist(dist_rand, bins=50)\n",
    "plt.hist(dist_pockets, bins=50)\n",
    "plt.show()"
   ]
  },
  {
   "cell_type": "code",
   "execution_count": null,
   "metadata": {},
   "outputs": [],
   "source": []
  }
 ],
 "metadata": {
  "kernelspec": {
   "display_name": "Python 3",
   "language": "python",
   "name": "python3"
  },
  "language_info": {
   "codemirror_mode": {
    "name": "ipython",
    "version": 3
   },
   "file_extension": ".py",
   "mimetype": "text/x-python",
   "name": "python",
   "nbconvert_exporter": "python",
   "pygments_lexer": "ipython3",
   "version": "3.9.15"
  }
 },
 "nbformat": 4,
 "nbformat_minor": 2
}
