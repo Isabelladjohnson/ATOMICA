{
 "cells": [
  {
   "cell_type": "markdown",
   "metadata": {},
   "source": [
    "Given the same ligand, can you do arithmetic \n",
    "(protein-ligand complex embedding) - (protein embedding) + (new protein embedding) = (new protein-ligand complex embedding) ?"
   ]
  },
  {
   "cell_type": "code",
   "execution_count": 1,
   "metadata": {},
   "outputs": [
    {
     "name": "stdout",
     "output_type": "stream",
     "text": [
      "/n/holylabs/LABS/mzitnik_lab/Users/afang/GET\n"
     ]
    }
   ],
   "source": [
    "import os\n",
    "import sys\n",
    "\n",
    "# Get the current notebook's directory\n",
    "current_directory = os.getcwd()\n",
    "\n",
    "# Get the parent directory\n",
    "parent_directory = os.path.dirname(os.path.dirname(current_directory))\n",
    "\n",
    "# Add the parent directory to the module search path\n",
    "sys.path.insert(0, parent_directory)\n",
    "print(parent_directory)"
   ]
  },
  {
   "cell_type": "code",
   "execution_count": 2,
   "metadata": {},
   "outputs": [
    {
     "name": "stderr",
     "output_type": "stream",
     "text": [
      "/n/home13/afang/.conda/envs/interactenv1/lib/python3.9/site-packages/tqdm/auto.py:21: TqdmWarning: IProgress not found. Please update jupyter and ipywidgets. See https://ipywidgets.readthedocs.io/en/stable/user_install.html\n",
      "  from .autonotebook import tqdm as notebook_tqdm\n"
     ]
    }
   ],
   "source": [
    "from data.converter.pdb_to_list_blocks import pdb_to_list_blocks\n",
    "from data.converter.sm_pdb_to_blocks import sm_pdb_to_blocks\n",
    "import data.dataset\n",
    "from data.atom3d_dataset import LBADataset\n",
    "import models\n",
    "import torch\n",
    "from trainers.abs_trainer import Trainer\n",
    "import importlib\n",
    "import matplotlib.pyplot as plt\n",
    "from torch.utils.data import DataLoader\n",
    "from tqdm import tqdm\n",
    "import numpy as np\n",
    "from models import DenoisePretrainModel, AffinityPredictor\n",
    "from rdkit import Chem\n",
    "from rdkit.Chem import AllChem, DataStructs\n",
    "import itertools\n",
    "import random\n",
    "import scipy\n",
    "from torch_scatter import scatter_sum"
   ]
  },
  {
   "cell_type": "code",
   "execution_count": 46,
   "metadata": {},
   "outputs": [],
   "source": [
    "import importlib\n",
    "importlib.reload(data.dataset)\n",
    "from data.dataset import VOCAB\n",
    "from data.dataset import blocks_interface, blocks_to_data\n",
    "from data.dataset import BlockGeoAffDataset, PDBBindBenchmark, DynamicBatchWrapper"
   ]
  },
  {
   "cell_type": "markdown",
   "metadata": {},
   "source": [
    "Finetuned model"
   ]
  },
  {
   "cell_type": "code",
   "execution_count": 3,
   "metadata": {},
   "outputs": [],
   "source": [
    "# pretrain_ckpt = \"/n/holyscratch01/mzitnik_lab/afang/GET/datasets/LBA/split-by-sequence-identity-30/models/InteractNN/version_112/checkpoint/epoch144_step61190.ckpt\"\n",
    "# model = torch.load(pretrain_ckpt, map_location='cpu')\n",
    "# model = model.to(\"cuda\")"
   ]
  },
  {
   "cell_type": "markdown",
   "metadata": {},
   "source": [
    "Pretrained model"
   ]
  },
  {
   "cell_type": "code",
   "execution_count": 4,
   "metadata": {},
   "outputs": [
    {
     "name": "stderr",
     "output_type": "stream",
     "text": [
      "/n/home13/afang/.conda/envs/interactenv1/lib/python3.9/site-packages/torch/overrides.py:110: UserWarning: 'has_cuda' is deprecated, please use 'torch.backends.cuda.is_built()'\n",
      "  torch.has_cuda,\n",
      "/n/home13/afang/.conda/envs/interactenv1/lib/python3.9/site-packages/torch/overrides.py:111: UserWarning: 'has_cudnn' is deprecated, please use 'torch.backends.cudnn.is_available()'\n",
      "  torch.has_cudnn,\n",
      "/n/home13/afang/.conda/envs/interactenv1/lib/python3.9/site-packages/torch/overrides.py:117: UserWarning: 'has_mps' is deprecated, please use 'torch.backends.mps.is_built()'\n",
      "  torch.has_mps,\n",
      "/n/home13/afang/.conda/envs/interactenv1/lib/python3.9/site-packages/torch/overrides.py:118: UserWarning: 'has_mkldnn' is deprecated, please use 'torch.backends.mkldnn.is_available()'\n",
      "  torch.has_mkldnn,\n",
      "/n/home13/afang/.conda/envs/interactenv1/lib/python3.9/site-packages/torch/jit/_check.py:178: UserWarning: The TorchScript type system doesn't support instance-level annotations on empty non-base types in `__init__`. Instead, either 1) use a type annotation in the class body, or 2) wrap the type in `torch.jit.Attribute`.\n",
      "  warnings.warn(\n"
     ]
    }
   ],
   "source": [
    "pretrain_ckpt = \"/n/holyscratch01/mzitnik_lab/afang/GET/pretrain/models/InteractNN-global/version_76/checkpoint/epoch8_step690593.ckpt\" # pretrained only\n",
    "model = AffinityPredictor.load_from_pretrained(pretrain_ckpt)\n",
    "model = model.to(\"cuda\")"
   ]
  },
  {
   "cell_type": "markdown",
   "metadata": {},
   "source": [
    "## Protein Ligand case study\n",
    "For proteins bound to the same ligand"
   ]
  },
  {
   "cell_type": "code",
   "execution_count": 70,
   "metadata": {},
   "outputs": [
    {
     "name": "stdout",
     "output_type": "stream",
     "text": [
      "fragmentation False\n",
      "2024-02-22 15:08:46::INFO::Loading preprocessed data from /n/holylabs/LABS/mzitnik_lab/Users/afang/GET/datasets/LBA/split-by-sequence-identity-30/train.LBADataset_processed.pkl...\n"
     ]
    }
   ],
   "source": [
    "dataset = LBADataset(\"/n/holylabs/LABS/mzitnik_lab/Users/afang/GET/datasets/LBA/split-by-sequence-identity-30/train\")"
   ]
  },
  {
   "cell_type": "code",
   "execution_count": 85,
   "metadata": {},
   "outputs": [
    {
     "data": {
      "text/plain": [
       "31"
      ]
     },
     "execution_count": 85,
     "metadata": {},
     "output_type": "execute_result"
    }
   ],
   "source": [
    "with open(\"adp_pdbs.txt\", \"r\") as f:\n",
    "    proteins = f.read().split(\"\\n\")\n",
    "len(set(proteins))"
   ]
  },
  {
   "cell_type": "code",
   "execution_count": 86,
   "metadata": {},
   "outputs": [
    {
     "data": {
      "text/plain": [
       "28"
      ]
     },
     "execution_count": 86,
     "metadata": {},
     "output_type": "execute_result"
    }
   ],
   "source": [
    "protein_dataset = []\n",
    "for d in dataset:\n",
    "    if d[\"id\"] not in proteins:\n",
    "        continue\n",
    "    protein_dataset.append(d)\n",
    "proteins = [d[\"id\"] for d in protein_dataset]\n",
    "len(proteins)"
   ]
  },
  {
   "cell_type": "code",
   "execution_count": 87,
   "metadata": {},
   "outputs": [],
   "source": [
    "embeddings = {}\n",
    "batch_size = 8\n",
    "for i in range(0, len(protein_dataset), batch_size):\n",
    "    model.eval()\n",
    "    with torch.no_grad():\n",
    "        minibatch = LBADataset.collate_fn(protein_dataset[i:i+batch_size])\n",
    "        pdb_ids = [d[\"id\"] for d in protein_dataset[i:i+batch_size]]\n",
    "        minibatch = Trainer.to_device(minibatch, \"cuda\")\n",
    "        pred_binding_affinity, output = model.infer(minibatch, extra_info=True)\n",
    "        batch_id = torch.zeros_like(minibatch[\"segment_ids\"])  # [Nb]\n",
    "        batch_id[torch.cumsum(minibatch[\"lengths\"], dim=0)[:-1]] = 1\n",
    "        batch_id.cumsum_(dim=0)  # [Nb], item idx in the batch\n",
    "        for idx, pdb_id in enumerate(pdb_ids):\n",
    "            embeddings[pdb_id] = output.graph_repr[idx].cpu().numpy()"
   ]
  },
  {
   "cell_type": "code",
   "execution_count": 92,
   "metadata": {},
   "outputs": [],
   "source": [
    "embeddings_all = {}\n",
    "batch_size = 8\n",
    "for i in range(0, len(dataset), batch_size):\n",
    "    model.eval()\n",
    "    with torch.no_grad():\n",
    "        minibatch = LBADataset.collate_fn(dataset[i:i+batch_size])\n",
    "        pdb_ids = [d[\"id\"] for d in dataset[i:i+batch_size]]\n",
    "        minibatch = Trainer.to_device(minibatch, \"cuda\")\n",
    "        pred_binding_affinity, output = model.infer(minibatch, extra_info=True)\n",
    "        batch_id = torch.zeros_like(minibatch[\"segment_ids\"])  # [Nb]\n",
    "        batch_id[torch.cumsum(minibatch[\"lengths\"], dim=0)[:-1]] = 1\n",
    "        batch_id.cumsum_(dim=0)  # [Nb], item idx in the batch\n",
    "        for idx, pdb_id in enumerate(pdb_ids):\n",
    "            embeddings_all[pdb_id] = output.graph_repr[idx].cpu().numpy()"
   ]
  },
  {
   "cell_type": "code",
   "execution_count": 88,
   "metadata": {},
   "outputs": [],
   "source": [
    "pocket_only_embeddings = {}\n",
    "\n",
    "for i in range(0, len(protein_dataset), batch_size):\n",
    "    model.eval()\n",
    "    with torch.no_grad():\n",
    "        minibatch_ = [BlockGeoAffDataset.filter_for_segment(d, 0) for d in protein_dataset[i:i+batch_size]]\n",
    "        minibatch = LBADataset.collate_fn(minibatch_)\n",
    "        pdb_ids = [d[\"id\"] for d in protein_dataset[i:i+batch_size]]\n",
    "        minibatch = Trainer.to_device(minibatch, \"cuda\")\n",
    "        pred_binding_affinity, output = model.infer(minibatch, extra_info=True)\n",
    "        for idx, pdb_id in enumerate(pdb_ids):\n",
    "            pocket_only_embeddings[pdb_id] = output.graph_repr[idx].cpu().numpy()"
   ]
  },
  {
   "cell_type": "code",
   "execution_count": 89,
   "metadata": {},
   "outputs": [
    {
     "data": {
      "text/plain": [
       "28"
      ]
     },
     "execution_count": 89,
     "metadata": {},
     "output_type": "execute_result"
    }
   ],
   "source": [
    "len(pocket_only_embeddings)"
   ]
  },
  {
   "cell_type": "code",
   "execution_count": 101,
   "metadata": {},
   "outputs": [],
   "source": [
    "pairs = list(itertools.combinations(pocket_only_embeddings.keys(), 2))\n",
    "dist_construct = []\n",
    "dist_rand = []\n",
    "cmplx_dist = []\n",
    "for p1, p2 in pairs:\n",
    "    p1_cmplx = embeddings[p1]\n",
    "    p2_cmplx = embeddings[p2]\n",
    "    p1_prot = pocket_only_embeddings[p1]\n",
    "    p2_prot = pocket_only_embeddings[p2]\n",
    "\n",
    "    p1_cmplx_construct = p2_cmplx - p2_prot + p1_prot\n",
    "    p2_cmplx_construct = p1_cmplx - p1_prot + p2_prot\n",
    "    \n",
    "    rand_p1_cmplx = random.choice(list(embeddings_all.values()))\n",
    "    rand_p2_cmplx = random.choice(list(embeddings_all.values()))\n",
    "\n",
    "    # rand_p1_cmplx = np.mean(list(embeddings.values()), axis=0)\n",
    "    # rand_p2_cmplx = np.mean(list(embeddings.values()), axis=0)\n",
    "\n",
    "    dist_construct.append(np.linalg.norm(p1_cmplx_construct - p1_cmplx))\n",
    "    dist_construct.append(np.linalg.norm(p2_cmplx_construct - p2_cmplx))\n",
    "    dist_rand.append(np.linalg.norm(p1_cmplx - rand_p1_cmplx))\n",
    "    dist_rand.append(np.linalg.norm(p2_cmplx - rand_p2_cmplx))\n",
    "    cmplx_dist.append(np.linalg.norm(p1_cmplx - p2_cmplx))\n",
    "    cmplx_dist.append(np.linalg.norm(p1_cmplx - p2_cmplx))\n"
   ]
  },
  {
   "cell_type": "code",
   "execution_count": 106,
   "metadata": {},
   "outputs": [
    {
     "data": {
      "image/png": "[encoded data removed]",
      "text/plain": [
       "<Figure size 640x480 with 1 Axes>"
      ]
     },
     "metadata": {},
     "output_type": "display_data"
    }
   ],
   "source": [
    "plt.hist(dist_construct, bins=20, alpha=1, label=\"Distance between constructed and original\")\n",
    "plt.hist(dist_rand, bins=20, alpha=0.5, label=\"Distance between random and original\")\n",
    "plt.legend()\n",
    "plt.show()"
   ]
  },
  {
   "cell_type": "markdown",
   "metadata": {},
   "source": [
    "Baseline is distance of protein-ligand complex to any protein-ligand complex (does not have to be of the same ligand)"
   ]
  },
  {
   "cell_type": "code",
   "execution_count": 102,
   "metadata": {},
   "outputs": [
    {
     "data": {
      "image/png": "[encoded data removed]",
      "text/plain": [
       "<Figure size 640x480 with 1 Axes>"
      ]
     },
     "metadata": {},
     "output_type": "display_data"
    }
   ],
   "source": [
    "plt.scatter(dist_construct, cmplx_dist)\n",
    "plt.xlabel(\"Distance between constructed protein-ligand complex and original complex\")\n",
    "plt.ylabel(\"Distance between original protein-ligand complexes\")\n",
    "plt.show()"
   ]
  },
  {
   "cell_type": "markdown",
   "metadata": {},
   "source": [
    "This does hold, but it is just because if the original complexes have very similar graph embeddings then the compositional relationship holds.\n",
    "\n",
    "If the original complexes have very different graph embeddings, then the compositional relationship does not hold."
   ]
  },
  {
   "cell_type": "markdown",
   "metadata": {},
   "source": [
    "## Protein Ligand and Nucleotide Ligand Case Study\n",
    "What about for a protein bound to a ligand and a nucleotide bound to the same ligand?\n",
    "i.e. does (protein-ligand complex embedding) - (protein embedding) + (nucleotide embedding) = (nucleotide-ligand complex embedding) ? "
   ]
  },
  {
   "cell_type": "code",
   "execution_count": 20,
   "metadata": {},
   "outputs": [
    {
     "name": "stdout",
     "output_type": "stream",
     "text": [
      "fragmentation False\n",
      "2024-02-22 14:45:59::INFO::Loading preprocessed data from /n/holylabs/LABS/mzitnik_lab/Users/afang/GET/datasets/LBA/split-by-sequence-identity-30/train.LBADataset_processed.pkl...\n",
      "2024-02-22 14:45:59::INFO::Loading preprocessed data from /n/holylabs/LABS/mzitnik_lab/Users/afang/GET/datasets/NL/processed/PDBbind.BlockGeoAffDataset_processed.pkl...\n"
     ]
    }
   ],
   "source": [
    "dataset_pl = LBADataset(\"/n/holylabs/LABS/mzitnik_lab/Users/afang/GET/datasets/LBA/split-by-sequence-identity-30/train\")\n",
    "dataset_nl = BlockGeoAffDataset('/n/holylabs/LABS/mzitnik_lab/Users/afang/GET/datasets/NL/processed/PDBbind.pkl')"
   ]
  },
  {
   "cell_type": "code",
   "execution_count": 8,
   "metadata": {},
   "outputs": [
    {
     "data": {
      "text/plain": [
       "20"
      ]
     },
     "execution_count": 8,
     "metadata": {},
     "output_type": "execute_result"
    }
   ],
   "source": [
    "with open(\"sam_pdbs.txt\", \"r\") as f:\n",
    "    pdbs = f.read().split(\"\\n\")\n",
    "len(set(pdbs))"
   ]
  },
  {
   "cell_type": "code",
   "execution_count": 29,
   "metadata": {},
   "outputs": [
    {
     "data": {
      "text/plain": [
       "8"
      ]
     },
     "execution_count": 29,
     "metadata": {},
     "output_type": "execute_result"
    }
   ],
   "source": [
    "filtered_dataset_nl = []\n",
    "nl_pdbs = []\n",
    "for idx, d in enumerate(dataset_nl.indexes):\n",
    "    if d[\"id\"] not in pdbs:\n",
    "        continue\n",
    "    filtered_dataset_nl.append(dataset_nl[idx])\n",
    "    nl_pdbs.append(d[\"id\"])\n",
    "len(filtered_dataset_nl)"
   ]
  },
  {
   "cell_type": "code",
   "execution_count": 22,
   "metadata": {},
   "outputs": [
    {
     "data": {
      "text/plain": [
       "11"
      ]
     },
     "execution_count": 22,
     "metadata": {},
     "output_type": "execute_result"
    }
   ],
   "source": [
    "filtered_dataset_pl = []\n",
    "pl_pdbs = []\n",
    "for d in dataset_pl:\n",
    "    if d[\"id\"] not in pdbs:\n",
    "        continue\n",
    "    pl_pdbs.append(d[\"id\"])\n",
    "    filtered_dataset_pl.append(d)\n",
    "len(filtered_dataset_pl)"
   ]
  },
  {
   "cell_type": "code",
   "execution_count": 42,
   "metadata": {},
   "outputs": [],
   "source": [
    "embeddings_pl = {}\n",
    "batch_size = 8\n",
    "for i in range(0, len(filtered_dataset_pl), batch_size):\n",
    "    model.eval()\n",
    "    with torch.no_grad():\n",
    "        minibatch = LBADataset.collate_fn(filtered_dataset_pl[i:i+batch_size])\n",
    "        pdb_ids = [d[\"id\"] for d in filtered_dataset_pl[i:i+batch_size]]\n",
    "        minibatch = Trainer.to_device(minibatch, \"cuda\")\n",
    "        pred_binding_affinity, output = model.infer(minibatch, extra_info=True)\n",
    "        batch_id = torch.zeros_like(minibatch[\"segment_ids\"])  # [Nb]\n",
    "        batch_id[torch.cumsum(minibatch[\"lengths\"], dim=0)[:-1]] = 1\n",
    "        batch_id.cumsum_(dim=0)  # [Nb], item idx in the batch\n",
    "        for idx, pdb_id in enumerate(pdb_ids):\n",
    "            embeddings_pl[pdb_id] = output.graph_repr[idx].cpu().numpy()"
   ]
  },
  {
   "cell_type": "code",
   "execution_count": 43,
   "metadata": {},
   "outputs": [],
   "source": [
    "embeddings_p = {}\n",
    "for i in range(0, len(filtered_dataset_pl), batch_size):\n",
    "    model.eval()\n",
    "    with torch.no_grad():\n",
    "        minibatch_ = [BlockGeoAffDataset.filter_for_segment(d, 0) for d in filtered_dataset_pl[i:i+batch_size]]\n",
    "        minibatch = LBADataset.collate_fn(minibatch_)\n",
    "        pdb_ids = [d[\"id\"] for d in filtered_dataset_pl[i:i+batch_size]]\n",
    "        minibatch = Trainer.to_device(minibatch, \"cuda\")\n",
    "        pred_binding_affinity, output = model.infer(minibatch, extra_info=True)\n",
    "        batch_id = torch.zeros_like(minibatch[\"segment_ids\"])  # [Nb]\n",
    "        batch_id[torch.cumsum(minibatch[\"lengths\"], dim=0)[:-1]] = 1\n",
    "        batch_id.cumsum_(dim=0)  # [Nb], item idx in the batch\n",
    "        for idx, pdb_id in enumerate(pdb_ids):\n",
    "            embeddings_p[pdb_id] = output.graph_repr[idx].cpu().numpy()"
   ]
  },
  {
   "cell_type": "code",
   "execution_count": 44,
   "metadata": {},
   "outputs": [],
   "source": [
    "embeddings_nl = {}\n",
    "for i in range(0, len(filtered_dataset_nl), batch_size):\n",
    "    model.eval()\n",
    "    with torch.no_grad():\n",
    "        minibatch = BlockGeoAffDataset.collate_fn(filtered_dataset_nl[i:i+batch_size])\n",
    "        pdb_ids = nl_pdbs[i:i+batch_size]\n",
    "        minibatch = Trainer.to_device(minibatch, \"cuda\")\n",
    "        pred_binding_affinity, output = model.infer(minibatch, extra_info=True)\n",
    "        batch_id = torch.zeros_like(minibatch[\"segment_ids\"])  # [Nb]\n",
    "        batch_id[torch.cumsum(minibatch[\"lengths\"], dim=0)[:-1]] = 1\n",
    "        batch_id.cumsum_(dim=0)  # [Nb], item idx in the batch\n",
    "        for idx, pdb_id in enumerate(pdb_ids):\n",
    "            embeddings_nl[pdb_id] = output.graph_repr[idx].cpu().numpy()"
   ]
  },
  {
   "cell_type": "code",
   "execution_count": 65,
   "metadata": {},
   "outputs": [],
   "source": [
    "embeddings_nl_all = {}\n",
    "for i in range(0, len(dataset_nl), batch_size):\n",
    "    model.eval()\n",
    "    with torch.no_grad():\n",
    "        minibatch = BlockGeoAffDataset.collate_fn(dataset_nl[i:i+batch_size])\n",
    "        pdb_ids = [d[\"id\"] for d in dataset_nl.indexes[i:i+batch_size]]\n",
    "        minibatch = Trainer.to_device(minibatch, \"cuda\")\n",
    "        pred_binding_affinity, output = model.infer(minibatch, extra_info=True)\n",
    "        batch_id = torch.zeros_like(minibatch[\"segment_ids\"])  # [Nb]\n",
    "        batch_id[torch.cumsum(minibatch[\"lengths\"], dim=0)[:-1]] = 1\n",
    "        batch_id.cumsum_(dim=0)  # [Nb], item idx in the batch\n",
    "        for idx, pdb_id in enumerate(pdb_ids):\n",
    "            embeddings_nl_all[pdb_id] = output.graph_repr[idx].cpu().numpy()"
   ]
  },
  {
   "cell_type": "code",
   "execution_count": 47,
   "metadata": {},
   "outputs": [],
   "source": [
    "embeddings_n = {}\n",
    "for i in range(0, len(filtered_dataset_nl), batch_size):\n",
    "    model.eval()\n",
    "    with torch.no_grad():\n",
    "        minibatch_ = [BlockGeoAffDataset.filter_for_segment(d, 0) for d in filtered_dataset_nl[i:i+batch_size]]\n",
    "        minibatch = BlockGeoAffDataset.collate_fn(minibatch_)\n",
    "        pdb_ids = nl_pdbs[i:i+batch_size]\n",
    "        minibatch = Trainer.to_device(minibatch, \"cuda\")\n",
    "        pred_binding_affinity, output = model.infer(minibatch, extra_info=True)\n",
    "        batch_id = torch.zeros_like(minibatch[\"segment_ids\"])  # [Nb]\n",
    "        batch_id[torch.cumsum(minibatch[\"lengths\"], dim=0)[:-1]] = 1\n",
    "        batch_id.cumsum_(dim=0)  # [Nb], item idx in the batch\n",
    "        for idx, pdb_id in enumerate(pdb_ids):\n",
    "            embeddings_n[pdb_id] = output.graph_repr[idx].cpu().numpy()"
   ]
  },
  {
   "cell_type": "code",
   "execution_count": 112,
   "metadata": {},
   "outputs": [],
   "source": [
    "pl_constr_dist = []\n",
    "nl_constr_dist = []\n",
    "rand_dist1 = []\n",
    "rand_dist2 = []\n",
    "pl_nl_dist = []\n",
    "pairs = list(itertools.product(pl_pdbs, nl_pdbs))\n",
    "for pl_pdb, nl_pdb in pairs:\n",
    "    pl_embedding = embeddings_pl[pl_pdb]\n",
    "    nl_embedding = embeddings_nl[nl_pdb]\n",
    "\n",
    "    pl_constr = embeddings_nl[nl_pdb] - embeddings_n[nl_pdb] + embeddings_p[pl_pdb]\n",
    "    nl_constr = embeddings_pl[pl_pdb] - embeddings_p[pl_pdb] + embeddings_n[nl_pdb]\n",
    "\n",
    "    pl_constr_dist.append(np.linalg.norm(pl_constr - pl_embedding))\n",
    "    nl_constr_dist.append(np.linalg.norm(nl_constr - nl_embedding))\n",
    "    rand_dist1.append(np.linalg.norm(pl_embedding - np.random.randn(pl_embedding.size)))\n",
    "    rand_dist2.append(np.linalg.norm(pl_embedding - random.choice(list(embeddings_nl_all.values()))))\n",
    "    pl_nl_dist.append(np.linalg.norm(pl_embedding - nl_embedding))"
   ]
  },
  {
   "cell_type": "code",
   "execution_count": 69,
   "metadata": {},
   "outputs": [
    {
     "data": {
      "image/png": "[encoded data removed]",
      "text/plain": [
       "<Figure size 640x480 with 1 Axes>"
      ]
     },
     "metadata": {},
     "output_type": "display_data"
    }
   ],
   "source": [
    "plt.hist(pl_constr_dist, label = \"distance from PL embedding to constructed PL embeddings from NL embedding\")\n",
    "# plt.hist(rand_dist1, label = \"distance from PL embedding to random embeddings\")\n",
    "plt.hist(rand_dist2, alpha=0.5, label = \"distance from PL embedding to randomly chosen NL embedding\")\n",
    "plt.legend()\n",
    "plt.show()"
   ]
  },
  {
   "cell_type": "markdown",
   "metadata": {},
   "source": [
    "Baseline is distance of protein-ligand complex to any nucleotide-ligand complex (does not have to be of the same ligand)\n",
    "\n",
    "It looks like it does not really hold."
   ]
  },
  {
   "cell_type": "code",
   "execution_count": 135,
   "metadata": {},
   "outputs": [
    {
     "data": {
      "image/png": "[encoded data removed]",
      "text/plain": [
       "<Figure size 640x480 with 1 Axes>"
      ]
     },
     "metadata": {},
     "output_type": "display_data"
    }
   ],
   "source": [
    "plt.scatter(pl_constr_dist, pl_nl_dist)\n",
    "plt.xlabel(\"Distance from PL embedding to constructed PL embeddings from NL embedding\")\n",
    "plt.ylabel(\"Distance between PL and NL embeddings\")\n",
    "plt.scatter([d for d, p in zip(pl_constr_dist, pairs) if p[0] == \"2uyq\"], [d for d, p in zip(pl_nl_dist, pairs) if p[0] == \"2uyq\"], label = \"2uyq\")\n",
    "plt.legend()\n",
    "plt.show()"
   ]
  },
  {
   "cell_type": "markdown",
   "metadata": {},
   "source": [
    "2uyq is missing its sulfur tail in SAM for some reason, but we can see that it is more similar to the NL complexes with SAM as it has no opportunity to engage in sulfur-sulfur interactions."
   ]
  },
  {
   "cell_type": "markdown",
   "metadata": {},
   "source": [
    "## What does this show us?\n",
    "For the same ligand if it interacts similarly to the pocket, the compositional relationship holds. If it interacts differently, the compositional relationship does not hold."
   ]
  },
  {
   "cell_type": "code",
   "execution_count": 121,
   "metadata": {},
   "outputs": [
    {
     "data": {
      "text/plain": [
       "88"
      ]
     },
     "execution_count": 121,
     "metadata": {},
     "output_type": "execute_result"
    }
   ],
   "source": [
    "len(pairs)"
   ]
  },
  {
   "cell_type": "code",
   "execution_count": 127,
   "metadata": {},
   "outputs": [
    {
     "data": {
      "text/plain": [
       "47"
      ]
     },
     "execution_count": 127,
     "metadata": {},
     "output_type": "execute_result"
    }
   ],
   "source": [
    "sulfur = VOCAB.abrv_to_idx(\"S\")\n",
    "sulfur"
   ]
  },
  {
   "cell_type": "code",
   "execution_count": 129,
   "metadata": {},
   "outputs": [
    {
     "name": "stdout",
     "output_type": "stream",
     "text": [
      "5h5f True\n",
      "5twj True\n",
      "1nw5 True\n",
      "2h21 True\n",
      "5kva True\n",
      "3r24 True\n",
      "2uyq False\n",
      "4ymg True\n",
      "4bup True\n",
      "6bm5 True\n",
      "5bw4 True\n"
     ]
    }
   ],
   "source": [
    "for p in filtered_dataset_pl:\n",
    "    print(p[\"id\"], sulfur in p[\"B\"])"
   ]
  },
  {
   "cell_type": "code",
   "execution_count": 132,
   "metadata": {},
   "outputs": [
    {
     "data": {
      "text/plain": [
       "('6bm5', '4oqu')"
      ]
     },
     "execution_count": 132,
     "metadata": {},
     "output_type": "execute_result"
    }
   ],
   "source": [
    "pairs[pl_nl_dist.index(sorted(pl_nl_dist)[3])]"
   ]
  },
  {
   "cell_type": "markdown",
   "metadata": {},
   "source": [
    "### Most distant PL and NLs\n",
    "('5kva', '2ydh') for this PL and NL which are most distant, SAM interacts with the protein and nucleotide differently. \n",
    "* In 5kva, SAM interacts with the protein has a sulfur-sulfur bridge with a MET residue.\n",
    "* In 2ydh, this is not present as this nucleotides do not have any sulfurs.\n",
    "\n",
    "('4ymg', '2ydh') for this PL and NL which is second most distant: 4ymg and 2ydh have a separate set of intermolecular interactions that they engage in, though both are hydrogen bonds, it is different parts or amounts that engage in the hydrogen bonds.\n",
    "\n",
    "### Closest PL and NLs\n",
    "('6bm5', '4oqu') and (2uyq, some NL) are quite close to NLs because they do not engage in sulfur-sulfur interactions."
   ]
  },
  {
   "cell_type": "markdown",
   "metadata": {},
   "source": [
    "## What can we use this model for then?\n",
    "Test similarity of interfaces? Similarity of interaction of ligands with different proteins?\n",
    "\n",
    "Cluster PPI interfaces? for different mechanisms of interaction?\n",
    "\n",
    "Are there useful zero shot tasks where similarity of interaction is important?"
   ]
  }
 ],
 "metadata": {
  "kernelspec": {
   "display_name": "Python 3",
   "language": "python",
   "name": "python3"
  },
  "language_info": {
   "codemirror_mode": {
    "name": "ipython",
    "version": 3
   },
   "file_extension": ".py",
   "mimetype": "text/x-python",
   "name": "python",
   "nbconvert_exporter": "python",
   "pygments_lexer": "ipython3",
   "version": "3.9.15"
  }
 },
 "nbformat": 4,
 "nbformat_minor": 2
}
