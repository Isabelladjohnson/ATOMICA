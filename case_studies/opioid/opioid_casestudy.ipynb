{
 "cells": [
  {
   "cell_type": "markdown",
   "metadata": {},
   "source": [
    "# Molecular basis of opioid receptor signaling\n",
    "https://doi.org/10.1016/j.cell.2023.10.029"
   ]
  },
  {
   "cell_type": "code",
   "execution_count": 1,
   "metadata": {},
   "outputs": [
    {
     "name": "stdout",
     "output_type": "stream",
     "text": [
      "/n/holylabs/LABS/mzitnik_lab/Users/afang/GET\n"
     ]
    }
   ],
   "source": [
    "import os\n",
    "import sys\n",
    "\n",
    "# Get the current notebook's directory\n",
    "current_directory = os.getcwd()\n",
    "\n",
    "# Get the parent directory\n",
    "parent_directory = os.path.dirname(os.path.dirname(current_directory))\n",
    "\n",
    "# Add the parent directory to the module search path\n",
    "sys.path.insert(0, parent_directory)\n",
    "print(parent_directory)"
   ]
  },
  {
   "cell_type": "code",
   "execution_count": 2,
   "metadata": {},
   "outputs": [
    {
     "name": "stderr",
     "output_type": "stream",
     "text": [
      "/n/home13/afang/.conda/envs/interactenv1/lib/python3.9/site-packages/tqdm/auto.py:21: TqdmWarning: IProgress not found. Please update jupyter and ipywidgets. See https://ipywidgets.readthedocs.io/en/stable/user_install.html\n",
      "  from .autonotebook import tqdm as notebook_tqdm\n"
     ]
    }
   ],
   "source": [
    "from data.converter.pdb_to_list_blocks import pdb_to_list_blocks\n",
    "from data.converter.sm_pdb_to_blocks import sm_pdb_to_blocks\n",
    "from data.dataset import VOCAB\n",
    "from data.dataset import blocks_interface, blocks_to_data\n",
    "from data.dataset import BlockGeoAffDataset\n",
    "import models\n",
    "import torch\n",
    "from trainers.abs_trainer import Trainer\n",
    "import importlib\n",
    "import matplotlib.pyplot as plt"
   ]
  },
  {
   "cell_type": "code",
   "execution_count": 3,
   "metadata": {},
   "outputs": [],
   "source": [
    "importlib.reload(models)\n",
    "import models\n",
    "import data.dataset\n",
    "importlib.reload(data.dataset)\n",
    "from data.dataset import blocks_interface"
   ]
  },
  {
   "cell_type": "code",
   "execution_count": 4,
   "metadata": {},
   "outputs": [
    {
     "name": "stderr",
     "output_type": "stream",
     "text": [
      "/n/home13/afang/.conda/envs/interactenv1/lib/python3.9/site-packages/torch/overrides.py:110: UserWarning: 'has_cuda' is deprecated, please use 'torch.backends.cuda.is_built()'\n",
      "  torch.has_cuda,\n",
      "/n/home13/afang/.conda/envs/interactenv1/lib/python3.9/site-packages/torch/overrides.py:111: UserWarning: 'has_cudnn' is deprecated, please use 'torch.backends.cudnn.is_available()'\n",
      "  torch.has_cudnn,\n",
      "/n/home13/afang/.conda/envs/interactenv1/lib/python3.9/site-packages/torch/overrides.py:117: UserWarning: 'has_mps' is deprecated, please use 'torch.backends.mps.is_built()'\n",
      "  torch.has_mps,\n",
      "/n/home13/afang/.conda/envs/interactenv1/lib/python3.9/site-packages/torch/overrides.py:118: UserWarning: 'has_mkldnn' is deprecated, please use 'torch.backends.mkldnn.is_available()'\n",
      "  torch.has_mkldnn,\n",
      "/n/home13/afang/.conda/envs/interactenv1/lib/python3.9/site-packages/torch/jit/_check.py:178: UserWarning: The TorchScript type system doesn't support instance-level annotations on empty non-base types in `__init__`. Instead, either 1) use a type annotation in the class body, or 2) wrap the type in `torch.jit.Attribute`.\n",
      "  warnings.warn(\n"
     ]
    }
   ],
   "source": [
    "pretrain_ckpt = \"/n/holyscratch01/mzitnik_lab/afang/GET/datasets/LBA/split-by-sequence-identity-30/models/InteractNN/version_71/checkpoint/epoch66_step9045.ckpt\"\n",
    "model = models.AffinityPredictor.load_from_pretrained(pretrain_ckpt)"
   ]
  },
  {
   "cell_type": "code",
   "execution_count": 24,
   "metadata": {},
   "outputs": [],
   "source": [
    "receptor_file = \"8ef5.pdb\"\n",
    "ligand_file = \"8ef5_ligand_chM.pdb\"\n",
    "chain = \"M\""
   ]
  },
  {
   "cell_type": "code",
   "execution_count": 25,
   "metadata": {},
   "outputs": [],
   "source": [
    "raw_receptor_blocks = pdb_to_list_blocks(receptor_file, selected_chains=[chain])[0]\n",
    "ligand = sm_pdb_to_blocks(ligand_file)\n",
    "receptor_blocks, _, receptor_indexes, ligand_indexes = blocks_interface(raw_receptor_blocks, ligand, 8.0, return_indexes=True)\n",
    "data = blocks_to_data(receptor_blocks, ligand)\n",
    "data[\"label\"] = -1"
   ]
  },
  {
   "cell_type": "code",
   "execution_count": 26,
   "metadata": {},
   "outputs": [],
   "source": [
    "from Bio.PDB import PDBParser\n",
    "from data.dataset import Block, Atom, VOCAB\n",
    "\n",
    "receptor_pdb_indexes = []\n",
    "\n",
    "pdb = receptor_file\n",
    "selected_chains = [chain]\n",
    "\n",
    "parser = PDBParser(QUIET=True)\n",
    "structure = parser.get_structure('anonym', pdb)\n",
    "\n",
    "list_blocks, chain_ids = [], {}\n",
    "\n",
    "for chain in structure.get_chains():\n",
    "\n",
    "    _id = chain.get_id()\n",
    "    if (selected_chains is not None) and (_id not in selected_chains):\n",
    "        continue\n",
    "\n",
    "    residues, res_ids = [], {}\n",
    "\n",
    "    for idx, residue in enumerate(chain):\n",
    "        abrv = residue.get_resname()\n",
    "        residx = residue.get_id()[1]\n",
    "        if idx in receptor_indexes:\n",
    "            receptor_pdb_indexes.append((idx, abrv, residx))\n",
    "        hetero_flag, res_number, insert_code = residue.get_id()\n",
    "        res_id = f'{res_number}-{insert_code}'\n",
    "        if hetero_flag == 'W':\n",
    "            continue   # residue from glucose (WAT) or water (HOH)\n",
    "        if hetero_flag.strip() != '' and res_id in res_ids:\n",
    "            continue  # the solution (e.g. H_EDO (EDO))\n",
    "        if abrv == 'MSE':\n",
    "            abrv = 'MET'  # MET is usually transformed to MSE for structural analysis\n",
    "        symbol = VOCAB.abrv_to_symbol(abrv)\n",
    "            \n",
    "        # filter Hs because not all data include them\n",
    "        atoms = [ Atom(atom.get_id(), atom.get_coord(), atom.element) for atom in residue if atom.element != 'H' ]\n",
    "        residues.append(Block(symbol, atoms))\n",
    "        res_ids[res_id] = True\n",
    "    \n",
    "#     # the last few residues might be non-relevant molecules in the solvent if their types are unk\n",
    "#     end = len(residues) - 1\n",
    "#     while end >= 0:\n",
    "#         if residues[end].symbol == VOCAB.UNK:\n",
    "#             end -= 1\n",
    "#         else:\n",
    "#             break\n",
    "#     residues = residues[:end + 1]\n",
    "#     if len(residues) == 0:  # not a chain\n",
    "#         continue\n",
    "\n",
    "#     chain_ids[_id] = len(list_blocks)\n",
    "#     list_blocks.append(residues)\n",
    "\n",
    "# # reorder\n",
    "# if selected_chains is not None:\n",
    "#     list_blocks = [list_blocks[chain_ids[chain_id]] for chain_id in selected_chains]"
   ]
  },
  {
   "cell_type": "code",
   "execution_count": 27,
   "metadata": {},
   "outputs": [
    {
     "name": "stdout",
     "output_type": "stream",
     "text": [
      "Prediction: tensor([6.7745], device='cuda:0', grad_fn=<NegBackward0>)\n",
      "Block level prediction: tensor([ 0.1350,  0.0846,  0.0379,  0.0259,  0.0950, -0.0139,  0.0129,  0.0114,\n",
      "        -0.0219,  0.0629,  0.1033,  0.0351,  0.0465,  0.1615,  0.1503,  0.0372,\n",
      "         0.1582,  0.0697,  0.0410,  0.0246,  0.0238,  0.0565,  0.1355,  0.0386,\n",
      "         0.1259,  0.1479,  0.1124,  0.0027,  0.0354,  0.1227, -0.0005,  0.1530,\n",
      "         0.0564,  0.0711,  0.1544,  0.1556,  0.0222,  0.0494,  0.2112,  0.1593,\n",
      "         0.1486,  0.1260,  0.1401,  0.1659,  0.1648,  0.1616,  0.1609,  0.1620,\n",
      "         0.1518,  0.1425,  0.1686,  0.1682,  0.1606,  0.1673,  0.1504,  0.1327,\n",
      "         0.1112,  0.1444,  0.1420,  0.1582,  0.1618,  0.1691,  0.1638,  0.1617],\n",
      "       device='cuda:0', grad_fn=<NegBackward0>)\n"
     ]
    }
   ],
   "source": [
    "batch = BlockGeoAffDataset.collate_fn([data])\n",
    "batch = Trainer.to_device(batch, \"cuda:0\")\n",
    "model = model.to(\"cuda:0\")\n",
    "res = model.infer(batch, return_block_energy=True)\n",
    "print(\"Prediction:\", res[0])\n",
    "print(\"Block level prediction:\", res[1])"
   ]
  },
  {
   "cell_type": "code",
   "execution_count": 28,
   "metadata": {},
   "outputs": [
    {
     "data": {
      "image/png": "[encoded data removed]",
      "text/plain": [
       "<Figure size 640x480 with 1 Axes>"
      ]
     },
     "metadata": {},
     "output_type": "display_data"
    }
   ],
   "source": [
    "plt.hist(res[1].cpu().detach().numpy(), label=\"all\")\n",
    "plt.hist(res[1][batch[\"segment_ids\"] == 0].cpu().detach().numpy(), label=\"receptor\")\n",
    "plt.hist(res[1][batch[\"segment_ids\"] == 1].cpu().detach().numpy(), label=\"ligand\")\n",
    "plt.legend()\n",
    "plt.show()"
   ]
  },
  {
   "cell_type": "code",
   "execution_count": 29,
   "metadata": {},
   "outputs": [
    {
     "data": {
      "text/plain": [
       "tensor([38, 61, 50, 51, 53, 43, 44, 62, 47, 60, 63, 45, 13, 46, 52, 39, 16, 59,\n",
       "        35, 34, 31, 48, 54, 14, 40, 25, 57, 49, 58, 42, 22,  0, 55, 41, 24, 29,\n",
       "        26, 56, 10,  4,  1, 33, 17,  9, 21, 32, 37, 12, 18, 23,  2, 15, 28, 11,\n",
       "         3, 19, 20, 36,  6,  7, 27, 30,  5,  8], device='cuda:0')"
      ]
     },
     "execution_count": 29,
     "metadata": {},
     "output_type": "execute_result"
    }
   ],
   "source": [
    "res_sorted, res_indexes = torch.sort(res[1], descending=True)\n",
    "res_indexes"
   ]
  },
  {
   "cell_type": "code",
   "execution_count": 30,
   "metadata": {},
   "outputs": [
    {
     "data": {
      "text/plain": [
       "tensor([ 0.2112,  0.1691,  0.1686,  0.1682,  0.1673,  0.1659,  0.1648,  0.1638,\n",
       "         0.1620,  0.1618,  0.1617,  0.1616,  0.1615,  0.1609,  0.1606,  0.1593,\n",
       "         0.1582,  0.1582,  0.1556,  0.1544,  0.1530,  0.1518,  0.1504,  0.1503,\n",
       "         0.1486,  0.1479,  0.1444,  0.1425,  0.1420,  0.1401,  0.1355,  0.1350,\n",
       "         0.1327,  0.1260,  0.1259,  0.1227,  0.1124,  0.1112,  0.1033,  0.0950,\n",
       "         0.0846,  0.0711,  0.0697,  0.0629,  0.0565,  0.0564,  0.0494,  0.0465,\n",
       "         0.0410,  0.0386,  0.0379,  0.0372,  0.0354,  0.0351,  0.0259,  0.0246,\n",
       "         0.0238,  0.0222,  0.0129,  0.0114,  0.0027, -0.0005, -0.0139, -0.0219],\n",
       "       device='cuda:0', grad_fn=<SortBackward0>)"
      ]
     },
     "execution_count": 30,
     "metadata": {},
     "output_type": "execute_result"
    }
   ],
   "source": [
    "res_sorted"
   ]
  },
  {
   "cell_type": "code",
   "execution_count": 32,
   "metadata": {},
   "outputs": [
    {
     "data": {
      "text/plain": [
       "tensor([13, 16, 35, 34, 31, 14, 25, 22,  0, 24, 29, 26, 10,  4,  1, 33, 17,  9,\n",
       "        21, 32, 37, 12, 18, 23,  2, 15, 28, 11,  3, 19, 20, 36,  6,  7, 27, 30,\n",
       "         5,  8], device='cuda:0')"
      ]
     },
     "execution_count": 32,
     "metadata": {},
     "output_type": "execute_result"
    }
   ],
   "source": [
    "receptor_res_indexes = res_indexes[batch[\"segment_ids\"][res_indexes] == 0]\n",
    "receptor_res_indexes"
   ]
  },
  {
   "cell_type": "markdown",
   "metadata": {},
   "source": [
    "### Highest contributing amino acids in receptor to binding affinity"
   ]
  },
  {
   "cell_type": "code",
   "execution_count": 33,
   "metadata": {},
   "outputs": [
    {
     "name": "stdout",
     "output_type": "stream",
     "text": [
      "Total receptor amino acids = 38\n",
      "(83, 'ASP', 149)\n",
      "(87, 'MET', 153)\n",
      "(262, 'TYR', 328)\n",
      "(261, 'GLY', 327)\n",
      "(258, 'ILE', 324)\n",
      "(84, 'TYR', 150)\n",
      "(232, 'ILE', 298)\n",
      "(172, 'VAL', 238)\n",
      "global node\n",
      "(265, 'SER', 331)\n",
      "(229, 'TRP', 295)\n"
     ]
    }
   ],
   "source": [
    "print(\"Total receptor amino acids =\", len(receptor_res_indexes))\n",
    "for i in receptor_res_indexes.cpu().detach()[:10]:\n",
    "    if i == 0:\n",
    "        print(\"global node\")\n",
    "    print(receptor_pdb_indexes[i-1])"
   ]
  },
  {
   "cell_type": "code",
   "execution_count": 20,
   "metadata": {},
   "outputs": [],
   "source": [
    "segment_ids, lengths, block_lengths, A = batch[\"segment_ids\"], batch[\"lengths\"], batch[\"block_lengths\"], batch[\"A\"]\n",
    "batch_id = torch.zeros_like(segment_ids)  # [Nb]\n",
    "batch_id[torch.cumsum(lengths, dim=0)[:-1]] = 1\n",
    "batch_id = batch_id.cumsum_(dim=0)  # [Nb], item idx in the batch\n",
    "\n",
    "block_id = torch.zeros_like(A) # [Nu]\n",
    "block_id[torch.cumsum(block_lengths, dim=0)[:-1]] = 1\n",
    "block_id = block_id.cumsum_(dim=0)  # [Nu], block (residue) id of each unit (atom)"
   ]
  },
  {
   "cell_type": "markdown",
   "metadata": {},
   "source": [
    "# Binding affinity predictions\n",
    "The binding affinity of the ligands (higher binding affinity value $pK_d$ = more potent) to the receptors match the published order of potency: morphine < fentanyl < lofentanil\n",
    "* Lofentanil\n",
    "    * 7t2h: 7.4444\n",
    "* Fentanyl\n",
    "    * 8ef5_chR: 6.7673\n",
    "    * 8ef5_chM: 6.7745\n",
    "* Morphine\n",
    "    * 8ef6_chM: 5.9950\n",
    "    * 8ef6_chR: 5.9950"
   ]
  },
  {
   "cell_type": "markdown",
   "metadata": {},
   "source": [
    "# Analysing 8ef5_chM-fentanyl interactions\n",
    "Ordering the amino acids by their energy from highest to lowest shows which amino acids contribute the most to the binding affinity of fentanyl to the mu-opioid receptor. The top amino acids are:\n",
    "* (1) ASP 149, chain M: it looks like the NH2 on asparagine interacts with the N in the fentanyl in the form of hydrogen bonding. This matches what is published here \"in which the charged piperidine amine of fentanyl forms a salt bridge with Asp147 (note the two pdb files use diff numberings)\" https://www.nature.com/articles/s41467-021-21262-9\n",
    "* (2) MET 153, chain M: the sulfur interacts with the benzene - a favourable, stabilising methionine-aromatic interaction https://www.ncbi.nlm.nih.gov/pmc/articles/PMC3471747/ \n",
    "* (3) TYR 328, chain M: **also identified in Cell review** - that fentanyl’s benzene ring engages in direct pi-pi interactions with the toggle switch residues W295 and Y328\n",
    "* (10) **also identified in Cell review** W295 ranks 10th out of the 38 amino acids in the pocket\n",
    "\n",
    "\n",
    "Questions to answer: how strongly does this correlate with minimum distance?\n",
    "\n",
    "TODO: openeye visualisation of the binding pocket"
   ]
  },
  {
   "cell_type": "markdown",
   "metadata": {},
   "source": []
  }
 ],
 "metadata": {
  "kernelspec": {
   "display_name": "Python 3",
   "language": "python",
   "name": "python3"
  },
  "language_info": {
   "codemirror_mode": {
    "name": "ipython",
    "version": 3
   },
   "file_extension": ".py",
   "mimetype": "text/x-python",
   "name": "python",
   "nbconvert_exporter": "python",
   "pygments_lexer": "ipython3",
   "version": "3.9.15"
  }
 },
 "nbformat": 4,
 "nbformat_minor": 2
}
