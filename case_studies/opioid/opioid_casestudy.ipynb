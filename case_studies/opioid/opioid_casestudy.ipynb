{
 "cells": [
  {
   "cell_type": "markdown",
   "metadata": {},
   "source": [
    "# Molecular basis of opioid receptor signaling\n",
    "https://doi.org/10.1016/j.cell.2023.10.029"
   ]
  },
  {
   "cell_type": "code",
   "execution_count": 2,
   "metadata": {},
   "outputs": [
    {
     "name": "stdout",
     "output_type": "stream",
     "text": [
      "/n/holylabs/LABS/mzitnik_lab/Users/afang/GET\n"
     ]
    }
   ],
   "source": [
    "import os\n",
    "import sys\n",
    "\n",
    "# Get the current notebook's directory\n",
    "current_directory = os.getcwd()\n",
    "\n",
    "# Get the parent directory\n",
    "parent_directory = os.path.dirname(os.path.dirname(current_directory))\n",
    "\n",
    "# Add the parent directory to the module search path\n",
    "sys.path.insert(0, parent_directory)\n",
    "print(parent_directory)"
   ]
  },
  {
   "cell_type": "code",
   "execution_count": 3,
   "metadata": {},
   "outputs": [
    {
     "name": "stderr",
     "output_type": "stream",
     "text": [
      "/n/home13/afang/.conda/envs/interactenv1/lib/python3.9/site-packages/tqdm/auto.py:21: TqdmWarning: IProgress not found. Please update jupyter and ipywidgets. See https://ipywidgets.readthedocs.io/en/stable/user_install.html\n",
      "  from .autonotebook import tqdm as notebook_tqdm\n"
     ]
    }
   ],
   "source": [
    "from data.converter.pdb_to_list_blocks import pdb_to_list_blocks\n",
    "from data.converter.sm_pdb_to_blocks import sm_pdb_to_blocks\n",
    "from data.dataset import VOCAB\n",
    "from data.dataset import blocks_interface, blocks_to_data\n",
    "from data.dataset import BlockGeoAffDataset\n",
    "import models\n",
    "import torch\n",
    "from trainers.abs_trainer import Trainer\n",
    "import importlib\n",
    "import matplotlib.pyplot as plt"
   ]
  },
  {
   "cell_type": "code",
   "execution_count": 4,
   "metadata": {},
   "outputs": [],
   "source": [
    "importlib.reload(models)\n",
    "import models\n",
    "import data.dataset\n",
    "importlib.reload(data.dataset)\n",
    "from data.dataset import blocks_interface"
   ]
  },
  {
   "cell_type": "code",
   "execution_count": 81,
   "metadata": {},
   "outputs": [],
   "source": [
    "# pretrain_ckpt = \"/n/holyscratch01/mzitnik_lab/afang/GET/datasets/LBA/split-by-sequence-identity-30/models/InteractNN/version_71/checkpoint/epoch66_step9045.ckpt\"\n",
    "# pretrain_ckpt = \"/n/holyscratch01/mzitnik_lab/afang/GET/datasets/LBA/split-by-sequence-identity-30/models/InteractNN/version_89/checkpoint/epoch69_step29470.ckpt\" # finetuned from QBioLIP\n",
    "# pretrain_ckpt = \"/n/holyscratch01/mzitnik_lab/afang/GET/datasets/LBA/split-by-sequence-identity-30/models/InteractNN/version_86/checkpoint/epoch71_step30240.ckpt\" # finetuned from QBioLIP\n",
    "pretrain_ckpt = \"/n/holyscratch01/mzitnik_lab/afang/GET/datasets/LBA/split-by-sequence-identity-30/models/InteractNN/version_85/checkpoint/epoch73_step31228.ckpt\" # finetuned from QBioLIP\n",
    "\n",
    "# pretrain_ckpt = \"/n/holyscratch01/mzitnik_lab/afang/GET/datasets/LBA/split-by-sequence-identity-30/models/InteractNN/version_88/checkpoint/epoch50_step21522.ckpt\" # finetuned from CSD + QBioLIP\n",
    "model = models.AffinityPredictor.load_from_pretrained(pretrain_ckpt)"
   ]
  },
  {
   "cell_type": "code",
   "execution_count": 42,
   "metadata": {},
   "outputs": [],
   "source": [
    "receptor_file = \"8ef5.pdb\"\n",
    "ligand_file = \"8ef5_ligand_chM.pdb\"\n",
    "chain = \"M\""
   ]
  },
  {
   "cell_type": "code",
   "execution_count": 43,
   "metadata": {},
   "outputs": [],
   "source": [
    "raw_receptor_blocks = pdb_to_list_blocks(receptor_file, selected_chains=[chain])[0]\n",
    "ligand = sm_pdb_to_blocks(ligand_file)\n",
    "receptor_blocks, _, receptor_indexes, ligand_indexes = blocks_interface(raw_receptor_blocks, ligand, 8.0, return_indexes=True)\n",
    "data = blocks_to_data(receptor_blocks, ligand)\n",
    "data[\"label\"] = -1"
   ]
  },
  {
   "cell_type": "code",
   "execution_count": 44,
   "metadata": {},
   "outputs": [],
   "source": [
    "from Bio.PDB import PDBParser\n",
    "from data.dataset import Block, Atom, VOCAB\n",
    "\n",
    "receptor_pdb_indexes = []\n",
    "\n",
    "pdb = receptor_file\n",
    "selected_chains = [chain]\n",
    "\n",
    "parser = PDBParser(QUIET=True)\n",
    "structure = parser.get_structure('anonym', pdb)\n",
    "\n",
    "list_blocks, chain_ids = [], {}\n",
    "\n",
    "for chain in structure.get_chains():\n",
    "\n",
    "    _id = chain.get_id()\n",
    "    if (selected_chains is not None) and (_id not in selected_chains):\n",
    "        continue\n",
    "\n",
    "    residues, res_ids = [], {}\n",
    "\n",
    "    for idx, residue in enumerate(chain):\n",
    "        abrv = residue.get_resname()\n",
    "        residx = residue.get_id()[1]\n",
    "        if idx in receptor_indexes:\n",
    "            receptor_pdb_indexes.append((idx, abrv, residx))\n",
    "        hetero_flag, res_number, insert_code = residue.get_id()\n",
    "        res_id = f'{res_number}-{insert_code}'\n",
    "        if hetero_flag == 'W':\n",
    "            continue   # residue from glucose (WAT) or water (HOH)\n",
    "        if hetero_flag.strip() != '' and res_id in res_ids:\n",
    "            continue  # the solution (e.g. H_EDO (EDO))\n",
    "        if abrv == 'MSE':\n",
    "            abrv = 'MET'  # MET is usually transformed to MSE for structural analysis\n",
    "        symbol = VOCAB.abrv_to_symbol(abrv)\n",
    "            \n",
    "        # filter Hs because not all data include them\n",
    "        atoms = [ Atom(atom.get_id(), atom.get_coord(), atom.element) for atom in residue if atom.element != 'H' ]\n",
    "        residues.append(Block(symbol, atoms))\n",
    "        res_ids[res_id] = True\n",
    "    \n",
    "#     # the last few residues might be non-relevant molecules in the solvent if their types are unk\n",
    "#     end = len(residues) - 1\n",
    "#     while end >= 0:\n",
    "#         if residues[end].symbol == VOCAB.UNK:\n",
    "#             end -= 1\n",
    "#         else:\n",
    "#             break\n",
    "#     residues = residues[:end + 1]\n",
    "#     if len(residues) == 0:  # not a chain\n",
    "#         continue\n",
    "\n",
    "#     chain_ids[_id] = len(list_blocks)\n",
    "#     list_blocks.append(residues)\n",
    "\n",
    "# # reorder\n",
    "# if selected_chains is not None:\n",
    "#     list_blocks = [list_blocks[chain_ids[chain_id]] for chain_id in selected_chains]"
   ]
  },
  {
   "cell_type": "code",
   "execution_count": 82,
   "metadata": {},
   "outputs": [
    {
     "name": "stdout",
     "output_type": "stream",
     "text": [
      "Prediction: tensor([7.1957], device='cuda:0', grad_fn=<NegBackward0>)\n",
      "Block level prediction: tensor([ 0.0951,  0.1712,  0.1462,  0.0695,  0.1893,  0.0746,  0.0756,  0.1217,\n",
      "         0.0391,  0.1181,  0.1862,  0.0858,  0.0357,  0.2028,  0.1526,  0.0458,\n",
      "         0.0917,  0.0689,  0.1225,  0.1449,  0.1661,  0.1293,  0.1625,  0.0055,\n",
      "         0.1269,  0.1470,  0.0661, -0.0187,  0.0639,  0.1205, -0.0214,  0.1882,\n",
      "         0.0829,  0.0165,  0.1360,  0.0464,  0.0087,  0.0192,  0.2056,  0.1123,\n",
      "         0.1258,  0.1044,  0.1244,  0.1279,  0.1374,  0.1655,  0.1428,  0.1318,\n",
      "         0.1335,  0.1515,  0.1343,  0.1448,  0.1658,  0.1127,  0.1173,  0.1126,\n",
      "         0.1181,  0.1254,  0.1084,  0.1564,  0.1289,  0.1828,  0.1388,  0.1036],\n",
      "       device='cuda:0', grad_fn=<NegBackward0>)\n"
     ]
    }
   ],
   "source": [
    "batch = BlockGeoAffDataset.collate_fn([data])\n",
    "batch = Trainer.to_device(batch, \"cuda:0\")\n",
    "model = model.to(\"cuda:0\")\n",
    "res = model.infer(batch, return_block_energy=True)\n",
    "print(\"Prediction:\", res[0])\n",
    "print(\"Block level prediction:\", res[1])"
   ]
  },
  {
   "cell_type": "code",
   "execution_count": 83,
   "metadata": {},
   "outputs": [
    {
     "data": {
      "image/png": "[encoded data removed]",
      "text/plain": [
       "<Figure size 640x480 with 1 Axes>"
      ]
     },
     "metadata": {},
     "output_type": "display_data"
    }
   ],
   "source": [
    "plt.hist(res[1].cpu().detach().numpy(), label=\"all\")\n",
    "plt.hist(res[1][batch[\"segment_ids\"] == 0].cpu().detach().numpy(), label=\"receptor\")\n",
    "plt.hist(res[1][batch[\"segment_ids\"] == 1].cpu().detach().numpy(), label=\"ligand\")\n",
    "plt.legend()\n",
    "plt.show()"
   ]
  },
  {
   "cell_type": "code",
   "execution_count": 84,
   "metadata": {},
   "outputs": [
    {
     "data": {
      "text/plain": [
       "tensor([38, 13,  4, 31, 10, 61,  1, 20, 52, 45, 22, 59, 14, 49, 25,  2, 19, 51,\n",
       "        46, 62, 44, 34, 50, 48, 47, 21, 60, 43, 24, 40, 57, 42, 18,  7, 29,  9,\n",
       "        56, 54, 53, 55, 39, 58, 41, 63,  0, 16, 11, 32,  6,  5,  3, 17, 26, 28,\n",
       "        35, 15,  8, 12, 37, 33, 36, 23, 27, 30], device='cuda:0')"
      ]
     },
     "execution_count": 84,
     "metadata": {},
     "output_type": "execute_result"
    }
   ],
   "source": [
    "res_sorted, res_indexes = torch.sort(res[1], descending=True)\n",
    "res_indexes"
   ]
  },
  {
   "cell_type": "code",
   "execution_count": 85,
   "metadata": {},
   "outputs": [
    {
     "data": {
      "text/plain": [
       "tensor([ 0.2056,  0.2028,  0.1893,  0.1882,  0.1862,  0.1828,  0.1712,  0.1661,\n",
       "         0.1658,  0.1655,  0.1625,  0.1564,  0.1526,  0.1515,  0.1470,  0.1462,\n",
       "         0.1449,  0.1448,  0.1428,  0.1388,  0.1374,  0.1360,  0.1343,  0.1335,\n",
       "         0.1318,  0.1293,  0.1289,  0.1279,  0.1269,  0.1258,  0.1254,  0.1244,\n",
       "         0.1225,  0.1217,  0.1205,  0.1181,  0.1181,  0.1173,  0.1127,  0.1126,\n",
       "         0.1123,  0.1084,  0.1044,  0.1036,  0.0951,  0.0917,  0.0858,  0.0829,\n",
       "         0.0756,  0.0746,  0.0695,  0.0689,  0.0661,  0.0639,  0.0464,  0.0458,\n",
       "         0.0391,  0.0357,  0.0192,  0.0165,  0.0087,  0.0055, -0.0187, -0.0214],\n",
       "       device='cuda:0', grad_fn=<SortBackward0>)"
      ]
     },
     "execution_count": 85,
     "metadata": {},
     "output_type": "execute_result"
    }
   ],
   "source": [
    "res_sorted"
   ]
  },
  {
   "cell_type": "code",
   "execution_count": 86,
   "metadata": {},
   "outputs": [
    {
     "data": {
      "text/plain": [
       "tensor([13,  4, 31, 10,  1, 20, 22, 14, 25,  2, 19, 34, 21, 24, 18,  7, 29,  9,\n",
       "         0, 16, 11, 32,  6,  5,  3, 17, 26, 28, 35, 15,  8, 12, 37, 33, 36, 23,\n",
       "        27, 30], device='cuda:0')"
      ]
     },
     "execution_count": 86,
     "metadata": {},
     "output_type": "execute_result"
    }
   ],
   "source": [
    "res_indexes[batch[\"segment_ids\"][res_indexes] == 0]"
   ]
  },
  {
   "cell_type": "code",
   "execution_count": 87,
   "metadata": {},
   "outputs": [
    {
     "data": {
      "text/plain": [
       "tensor([ 0.2028,  0.1893,  0.1882,  0.1862,  0.1712,  0.1661,  0.1625,  0.1526,\n",
       "         0.1470,  0.1462,  0.1449,  0.1360,  0.1293,  0.1269,  0.1225,  0.1217,\n",
       "         0.1205,  0.1181,  0.0951,  0.0917,  0.0858,  0.0829,  0.0756,  0.0746,\n",
       "         0.0695,  0.0689,  0.0661,  0.0639,  0.0464,  0.0458,  0.0391,  0.0357,\n",
       "         0.0192,  0.0165,  0.0087,  0.0055, -0.0187, -0.0214], device='cuda:0',\n",
       "       grad_fn=<IndexBackward0>)"
      ]
     },
     "execution_count": 87,
     "metadata": {},
     "output_type": "execute_result"
    }
   ],
   "source": [
    "receptor_res_indexes = res_indexes[batch[\"segment_ids\"][res_indexes] == 0]\n",
    "res_rec_sorted = res_sorted[batch[\"segment_ids\"][res_indexes] == 0]\n",
    "res_rec_sorted"
   ]
  },
  {
   "cell_type": "markdown",
   "metadata": {},
   "source": [
    "### Highest contributing amino acids in receptor to binding affinity"
   ]
  },
  {
   "cell_type": "code",
   "execution_count": 88,
   "metadata": {},
   "outputs": [
    {
     "name": "stdout",
     "output_type": "stream",
     "text": [
      "Total receptor amino acids = 38\n",
      "(83, 'ASP', 149) tensor(0.2028)\n",
      "(60, 'GLN', 126) tensor(0.1893)\n",
      "(258, 'ILE', 324) tensor(0.1882)\n",
      "(80, 'ILE', 146) tensor(0.1862)\n",
      "(56, 'THR', 122) tensor(0.1712)\n",
      "(155, 'LEU', 221) tensor(0.1661)\n",
      "(172, 'VAL', 238) tensor(0.1625)\n",
      "(84, 'TYR', 150) tensor(0.1526)\n",
      "(232, 'ILE', 298) tensor(0.1470)\n",
      "(57, 'LEU', 123) tensor(0.1462)\n"
     ]
    }
   ],
   "source": [
    "print(\"Total receptor amino acids =\", len(receptor_res_indexes))\n",
    "for i, score in zip(receptor_res_indexes.cpu().detach()[:10], res_rec_sorted.cpu().detach()[:10]):\n",
    "    if i == 0:\n",
    "        print(\"global node\")\n",
    "    print(receptor_pdb_indexes[i-1], score)"
   ]
  },
  {
   "cell_type": "code",
   "execution_count": 20,
   "metadata": {},
   "outputs": [],
   "source": [
    "segment_ids, lengths, block_lengths, A = batch[\"segment_ids\"], batch[\"lengths\"], batch[\"block_lengths\"], batch[\"A\"]\n",
    "batch_id = torch.zeros_like(segment_ids)  # [Nb]\n",
    "batch_id[torch.cumsum(lengths, dim=0)[:-1]] = 1\n",
    "batch_id = batch_id.cumsum_(dim=0)  # [Nb], item idx in the batch\n",
    "\n",
    "block_id = torch.zeros_like(A) # [Nu]\n",
    "block_id[torch.cumsum(block_lengths, dim=0)[:-1]] = 1\n",
    "block_id = block_id.cumsum_(dim=0)  # [Nu], block (residue) id of each unit (atom)"
   ]
  },
  {
   "cell_type": "markdown",
   "metadata": {},
   "source": [
    "# Binding affinity predictions\n",
    "The binding affinity of the ligands (higher binding affinity value $pK_d$ = more potent) to the receptors match the published order of potency: morphine < fentanyl < lofentanil\n",
    "* Lofentanil\n",
    "    * 7t2h: 7.4444\n",
    "* Fentanyl\n",
    "    * 8ef5_chR: 6.7673\n",
    "    * 8ef5_chM: 6.7745\n",
    "* Morphine\n",
    "    * 8ef6_chM: 5.9950\n",
    "    * 8ef6_chR: 5.9950"
   ]
  },
  {
   "cell_type": "markdown",
   "metadata": {},
   "source": [
    "# Analysing 8ef5_chM-fentanyl interactions\n",
    "Ordering the amino acids by their energy from highest to lowest shows which amino acids contribute the most to the binding affinity of fentanyl to the mu-opioid receptor. The top amino acids are:\n",
    "* (1) ASP 149, chain M: it looks like the NH2 on asparagine interacts with the N in the fentanyl in the form of hydrogen bonding. This matches what is published here \"in which the charged piperidine amine of fentanyl forms a salt bridge with Asp147 (note the two pdb files use diff numberings)\" https://www.nature.com/articles/s41467-021-21262-9\n",
    "* (2) MET 153, chain M: the sulfur interacts with the benzene - a favourable, stabilising methionine-aromatic interaction https://www.ncbi.nlm.nih.gov/pmc/articles/PMC3471747/ \n",
    "* (3) TYR 328, chain M: **also identified in Cell review** - that fentanyl’s benzene ring engages in direct pi-pi interactions with the toggle switch residues W295 and Y328\n",
    "* (10) **also identified in Cell review** W295 ranks 10th out of the 38 amino acids in the pocket\n",
    "\n",
    "\n",
    "Questions to answer: how strongly does this correlate with minimum distance?\n",
    "\n",
    "TODO: openeye visualisation of the binding pocket"
   ]
  },
  {
   "cell_type": "markdown",
   "metadata": {},
   "source": []
  }
 ],
 "metadata": {
  "kernelspec": {
   "display_name": "Python 3",
   "language": "python",
   "name": "python3"
  },
  "language_info": {
   "codemirror_mode": {
    "name": "ipython",
    "version": 3
   },
   "file_extension": ".py",
   "mimetype": "text/x-python",
   "name": "python",
   "nbconvert_exporter": "python",
   "pygments_lexer": "ipython3",
   "version": "3.9.15"
  }
 },
 "nbformat": 4,
 "nbformat_minor": 2
}
