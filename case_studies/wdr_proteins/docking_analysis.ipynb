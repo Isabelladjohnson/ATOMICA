{
 "cells": [
  {
   "cell_type": "code",
   "execution_count": 8,
   "metadata": {},
   "outputs": [],
   "source": [
    "from rdkit import Chem\n",
    "import pandas as pd"
   ]
  },
  {
   "cell_type": "code",
   "execution_count": 2,
   "metadata": {},
   "outputs": [
    {
     "data": {
      "text/html": [
       "<div>\n",
       "<style scoped>\n",
       "    .dataframe tbody tr th:only-of-type {\n",
       "        vertical-align: middle;\n",
       "    }\n",
       "\n",
       "    .dataframe tbody tr th {\n",
       "        vertical-align: top;\n",
       "    }\n",
       "\n",
       "    .dataframe thead th {\n",
       "        text-align: right;\n",
       "    }\n",
       "</style>\n",
       "<table border=\"1\" class=\"dataframe\">\n",
       "  <thead>\n",
       "    <tr style=\"text-align: right;\">\n",
       "      <th></th>\n",
       "      <th>Scan</th>\n",
       "      <th>Peptide</th>\n",
       "      <th>ALC (%)</th>\n",
       "      <th>m/z</th>\n",
       "      <th>z</th>\n",
       "      <th>RT</th>\n",
       "      <th>Mass</th>\n",
       "      <th>ppm</th>\n",
       "      <th>Uniqueness</th>\n",
       "      <th>Name</th>\n",
       "      <th>Obs Parent Mass</th>\n",
       "    </tr>\n",
       "  </thead>\n",
       "  <tbody>\n",
       "    <tr>\n",
       "      <th>0</th>\n",
       "      <td>2517</td>\n",
       "      <td>GVKGGQVMKGGVK</td>\n",
       "      <td>91</td>\n",
       "      <td>409.9232</td>\n",
       "      <td>3</td>\n",
       "      <td>18.09</td>\n",
       "      <td>1226.7458</td>\n",
       "      <td>1.5</td>\n",
       "      <td>UNIQUE</td>\n",
       "      <td>328-058_5-WDR5 results 2023-02-03 22-02</td>\n",
       "      <td>1226.7477</td>\n",
       "    </tr>\n",
       "    <tr>\n",
       "      <th>1</th>\n",
       "      <td>3837</td>\n",
       "      <td>GVGGKKVMASLTK</td>\n",
       "      <td>87</td>\n",
       "      <td>420.2676</td>\n",
       "      <td>3</td>\n",
       "      <td>25.99</td>\n",
       "      <td>1257.7769</td>\n",
       "      <td>3.3</td>\n",
       "      <td>UNIQUE</td>\n",
       "      <td>328-058_6-WDR5 results 2023-02-03 22-11</td>\n",
       "      <td>1257.7809</td>\n",
       "    </tr>\n",
       "    <tr>\n",
       "      <th>2</th>\n",
       "      <td>11892</td>\n",
       "      <td>VGGVAGLVLWVAK</td>\n",
       "      <td>95</td>\n",
       "      <td>634.3977</td>\n",
       "      <td>2</td>\n",
       "      <td>65.73</td>\n",
       "      <td>1266.7812</td>\n",
       "      <td>-0.3</td>\n",
       "      <td>UNIQUE</td>\n",
       "      <td>328-058_6-WDR5 results 2023-02-03 22-11</td>\n",
       "      <td>1266.7808</td>\n",
       "    </tr>\n",
       "    <tr>\n",
       "      <th>3</th>\n",
       "      <td>10788</td>\n",
       "      <td>GGGGFVTVWGHSK</td>\n",
       "      <td>85</td>\n",
       "      <td>644.3354</td>\n",
       "      <td>2</td>\n",
       "      <td>60.05</td>\n",
       "      <td>1286.6521</td>\n",
       "      <td>3.3</td>\n",
       "      <td>UNIQUE</td>\n",
       "      <td>328-058_6-WDR5 results 2023-02-03 22-11</td>\n",
       "      <td>1286.6562</td>\n",
       "    </tr>\n",
       "    <tr>\n",
       "      <th>4</th>\n",
       "      <td>3334</td>\n",
       "      <td>KQNDGSFTGVGAK</td>\n",
       "      <td>92</td>\n",
       "      <td>654.3406</td>\n",
       "      <td>2</td>\n",
       "      <td>23.16</td>\n",
       "      <td>1306.6628</td>\n",
       "      <td>2.9</td>\n",
       "      <td>UNIQUE</td>\n",
       "      <td>328-058_6-WDR5 results 2023-02-03 22-11</td>\n",
       "      <td>1306.6666</td>\n",
       "    </tr>\n",
       "    <tr>\n",
       "      <th>...</th>\n",
       "      <td>...</td>\n",
       "      <td>...</td>\n",
       "      <td>...</td>\n",
       "      <td>...</td>\n",
       "      <td>...</td>\n",
       "      <td>...</td>\n",
       "      <td>...</td>\n",
       "      <td>...</td>\n",
       "      <td>...</td>\n",
       "      <td>...</td>\n",
       "      <td>...</td>\n",
       "    </tr>\n",
       "    <tr>\n",
       "      <th>3785</th>\n",
       "      <td>11599</td>\n",
       "      <td>WWEEWTNWRYFYK</td>\n",
       "      <td>93</td>\n",
       "      <td>664.9780</td>\n",
       "      <td>3</td>\n",
       "      <td>66.48</td>\n",
       "      <td>1991.9106</td>\n",
       "      <td>0.8</td>\n",
       "      <td>UNIQUE</td>\n",
       "      <td>328-058_4-WDR5 results 2023-02-03 21-50</td>\n",
       "      <td>1991.9121</td>\n",
       "    </tr>\n",
       "    <tr>\n",
       "      <th>3786</th>\n",
       "      <td>9827</td>\n",
       "      <td>FVWYWMWWRMRYK</td>\n",
       "      <td>97</td>\n",
       "      <td>502.0151</td>\n",
       "      <td>4</td>\n",
       "      <td>57.41</td>\n",
       "      <td>2004.0312</td>\n",
       "      <td>0.0</td>\n",
       "      <td>UNIQUE</td>\n",
       "      <td>328-058_4-WDR5 results 2023-02-03 21-50</td>\n",
       "      <td>2004.0312</td>\n",
       "    </tr>\n",
       "    <tr>\n",
       "      <th>3787</th>\n",
       "      <td>12020</td>\n",
       "      <td>KWWWWLNWYHPWK</td>\n",
       "      <td>95</td>\n",
       "      <td>672.3401</td>\n",
       "      <td>3</td>\n",
       "      <td>66.19</td>\n",
       "      <td>2013.9944</td>\n",
       "      <td>2.0</td>\n",
       "      <td>UNIQUE</td>\n",
       "      <td>328-058_6-WDR5 results 2023-02-03 22-11</td>\n",
       "      <td>2013.9984</td>\n",
       "    </tr>\n",
       "    <tr>\n",
       "      <th>3788</th>\n",
       "      <td>9863</td>\n",
       "      <td>WWQNYHDFHWWWK</td>\n",
       "      <td>93</td>\n",
       "      <td>505.2316</td>\n",
       "      <td>4</td>\n",
       "      <td>57.67</td>\n",
       "      <td>2016.8960</td>\n",
       "      <td>0.7</td>\n",
       "      <td>UNIQUE</td>\n",
       "      <td>328-058_4-WDR5 results 2023-02-03 21-50</td>\n",
       "      <td>2016.8972</td>\n",
       "    </tr>\n",
       "    <tr>\n",
       "      <th>3789</th>\n",
       "      <td>8633</td>\n",
       "      <td>ERWWWWWKLEYRK</td>\n",
       "      <td>91</td>\n",
       "      <td>513.5195</td>\n",
       "      <td>4</td>\n",
       "      <td>49.97</td>\n",
       "      <td>2050.0479</td>\n",
       "      <td>0.6</td>\n",
       "      <td>UNIQUE</td>\n",
       "      <td>328-058_5-WDR5 results 2023-02-03 22-02</td>\n",
       "      <td>2050.0488</td>\n",
       "    </tr>\n",
       "  </tbody>\n",
       "</table>\n",
       "<p>3790 rows × 11 columns</p>\n",
       "</div>"
      ],
      "text/plain": [
       "       Scan        Peptide  ALC (%)       m/z  z     RT       Mass  ppm  \\\n",
       "0      2517  GVKGGQVMKGGVK       91  409.9232  3  18.09  1226.7458  1.5   \n",
       "1      3837  GVGGKKVMASLTK       87  420.2676  3  25.99  1257.7769  3.3   \n",
       "2     11892  VGGVAGLVLWVAK       95  634.3977  2  65.73  1266.7812 -0.3   \n",
       "3     10788  GGGGFVTVWGHSK       85  644.3354  2  60.05  1286.6521  3.3   \n",
       "4      3334  KQNDGSFTGVGAK       92  654.3406  2  23.16  1306.6628  2.9   \n",
       "...     ...            ...      ...       ... ..    ...        ...  ...   \n",
       "3785  11599  WWEEWTNWRYFYK       93  664.9780  3  66.48  1991.9106  0.8   \n",
       "3786   9827  FVWYWMWWRMRYK       97  502.0151  4  57.41  2004.0312  0.0   \n",
       "3787  12020  KWWWWLNWYHPWK       95  672.3401  3  66.19  2013.9944  2.0   \n",
       "3788   9863  WWQNYHDFHWWWK       93  505.2316  4  57.67  2016.8960  0.7   \n",
       "3789   8633  ERWWWWWKLEYRK       91  513.5195  4  49.97  2050.0479  0.6   \n",
       "\n",
       "     Uniqueness                                     Name  Obs Parent Mass  \n",
       "0        UNIQUE  328-058_5-WDR5 results 2023-02-03 22-02        1226.7477  \n",
       "1        UNIQUE  328-058_6-WDR5 results 2023-02-03 22-11        1257.7809  \n",
       "2        UNIQUE  328-058_6-WDR5 results 2023-02-03 22-11        1266.7808  \n",
       "3        UNIQUE  328-058_6-WDR5 results 2023-02-03 22-11        1286.6562  \n",
       "4        UNIQUE  328-058_6-WDR5 results 2023-02-03 22-11        1306.6666  \n",
       "...         ...                                      ...              ...  \n",
       "3785     UNIQUE  328-058_4-WDR5 results 2023-02-03 21-50        1991.9121  \n",
       "3786     UNIQUE  328-058_4-WDR5 results 2023-02-03 21-50        2004.0312  \n",
       "3787     UNIQUE  328-058_6-WDR5 results 2023-02-03 22-11        2013.9984  \n",
       "3788     UNIQUE  328-058_4-WDR5 results 2023-02-03 21-50        2016.8972  \n",
       "3789     UNIQUE  328-058_5-WDR5 results 2023-02-03 22-02        2050.0488  \n",
       "\n",
       "[3790 rows x 11 columns]"
      ]
     },
     "execution_count": 2,
     "metadata": {},
     "output_type": "execute_result"
    }
   ],
   "source": [
    "df = pd.read_csv('/n/holylabs/LABS/mzitnik_lab/Users/afang/GET/case_studies/wdr_proteins/Canonical_X12K_WDR5_AS-MS_Data.csv')\n",
    "df"
   ]
  },
  {
   "cell_type": "code",
   "execution_count": 3,
   "metadata": {},
   "outputs": [
    {
     "data": {
      "text/plain": [
       "(3790, 3790)"
      ]
     },
     "execution_count": 3,
     "metadata": {},
     "output_type": "execute_result"
    }
   ],
   "source": [
    "len(set(df['Peptide'])), len(df['Peptide'])"
   ]
  },
  {
   "cell_type": "code",
   "execution_count": 4,
   "metadata": {},
   "outputs": [],
   "source": [
    "smiles = []\n",
    "for peptide in df['Peptide']:\n",
    "    mol = Chem.MolFromSequence(peptide)\n",
    "    smiles.append(Chem.MolToSmiles(mol))"
   ]
  },
  {
   "cell_type": "code",
   "execution_count": 38,
   "metadata": {},
   "outputs": [],
   "source": [
    "docking_df = pd.DataFrame({'complex_name': df['Peptide'], 'protein_path': ['/n/holylabs/LABS/mzitnik_lab/Users/afang/GET/case_studies/wdr_proteins/6wjq_chain_A.pdb']*len(df), 'ligand_description': smiles, 'protein_sequence': [None]*len(df)})"
   ]
  },
  {
   "cell_type": "code",
   "execution_count": 39,
   "metadata": {},
   "outputs": [],
   "source": [
    "# for i in range(0, len(docking_df), 500):\n",
    "#     docking_df[i:min(i+500, len(docking_df))].to_csv(f'/n/holylabs/LABS/mzitnik_lab/Users/afang/GET/case_studies/wdr_proteins/6wjq_chain_A_docking_{i//500}.csv', index=False)"
   ]
  },
  {
   "cell_type": "code",
   "execution_count": 39,
   "metadata": {},
   "outputs": [
    {
     "name": "stderr",
     "output_type": "stream",
     "text": [
      "/n/home13/afang/.conda/envs/interactenv1/lib/python3.9/site-packages/Bio/PDB/StructureBuilder.py:89: PDBConstructionWarning: WARNING: Chain A is discontinuous at line 10067.\n",
      "  warnings.warn(\n",
      "/n/home13/afang/.conda/envs/interactenv1/lib/python3.9/site-packages/Bio/PDB/StructureBuilder.py:89: PDBConstructionWarning: WARNING: Chain B is discontinuous at line 10085.\n",
      "  warnings.warn(\n"
     ]
    }
   ],
   "source": [
    "from Bio.PDB import PDBParser, PDBIO\n",
    "\n",
    "def extract_chain(pdb_filename, output_filename, chain_id):\n",
    "    # Create a PDB parser\n",
    "    parser = PDBParser()\n",
    "\n",
    "    # Parse the structure from file\n",
    "    structure = parser.get_structure('PDB', pdb_filename)\n",
    "\n",
    "    # Create a PDBIO object\n",
    "    io = PDBIO()\n",
    "\n",
    "    # Iterate over all models in the structure\n",
    "    for model in structure:\n",
    "        # We will write only the first model that contains chain A\n",
    "        for chain in model:\n",
    "            if chain.id == chain_id:\n",
    "                # Set the structure for the output\n",
    "                io.set_structure(chain)\n",
    "                # Save the chain to a new file\n",
    "                io.save(output_filename)\n",
    "                return\n",
    "\n",
    "# Example usage:\n",
    "extract_chain('/n/holylabs/LABS/mzitnik_lab/Users/afang/GET/case_studies/wdr_proteins/6wjq.pdb', '/n/holylabs/LABS/mzitnik_lab/Users/afang/GET/case_studies/wdr_proteins/6wjq_chain_A.pdb', 'A')"
   ]
  },
  {
   "cell_type": "code",
   "execution_count": 49,
   "metadata": {},
   "outputs": [
    {
     "data": {
      "image/png": "[encoded data removed]",
      "text/plain": [
       "<rdkit.Chem.rdchem.Mol at 0x14d5539db5f0>"
      ]
     },
     "execution_count": 49,
     "metadata": {},
     "output_type": "execute_result"
    }
   ],
   "source": [
    "mol = Chem.MolFromSequence(df[\"Peptide\"][0])\n",
    "mol"
   ]
  },
  {
   "cell_type": "markdown",
   "metadata": {},
   "source": [
    "## Get SMILES strings for non canonical peptides"
   ]
  },
  {
   "cell_type": "code",
   "execution_count": 23,
   "metadata": {},
   "outputs": [],
   "source": [
    "NONCANONICAL_SMILES = {\n",
    "    '2FF':'N[C@@H](Cc1ccccc1C(F)(F)F)C(=O)O',\n",
    "    '3Py':'N[C@@H](Cc1cccnc1)C(=O)O',\n",
    "    '4Af':'Nc1ccc(C[C@H](N)C(=O)O)cc1',\n",
    "    'Aad':'N[C@@H](CCCC(=O)O)C(=O)O',\n",
    "    'Agb':'N=C(N)NCC[C@H](N)C(=O)O',\n",
    "    'Agn':'CC(=O)N[C@H]1[C@H](NC(=O)C[C@H](N)C(=O)O)O[C@H](CO)[C@@H](O)[C@@H]1O',\n",
    "    'Aib':'CC(C)(N)C(=O)O',\n",
    "    'Ala':'C[C@H](N)C(=O)O',\n",
    "    'Amb':'NCc1ccc(C(=O)O)cc1',\n",
    "    'Amf':'NCc1ccc(C[C@H](N)C(=O)O)cc1',\n",
    "    'Apr':'N[C@@H]1CN[C@H](C(=O)O)C1',\n",
    "    'Arg':'N=C(N)NCCC[C@H](N)C(=O)O',\n",
    "    'Asn':'NC(=O)C[C@H](N)C(=O)O',\n",
    "    'Asp':'N[C@@H](CC(=O)O)C(=O)O',\n",
    "    'Aze':'O=C(O)C1CCN1',\n",
    "    'Bpl':'N[C@@H](CCCCN(Cc1ccccn1)Cc1ccccn1)C(=O)O',\n",
    "    'Cit':'NC(=O)NCCC[C@H](N)C(=O)O',\n",
    "    'Cpa':'N[C@@H](CC1CC1)C(=O)O',\n",
    "    'Cpg':'N[C@H](C(=O)O)C1CCCC1',\n",
    "    'Cpz':'O=C(O)CN1CCNCC1',\n",
    "    'Cxf':'N[C@@H](Cc1ccc(C(=O)O)cc1)C(=O)O',\n",
    "    'Cys':'C([C@@H](C(=O)O)N)S',\n",
    "    'Dab':'NCC[C@H](N)C(=O)O',\n",
    "    'DfF':'N[C@@H](Cc1ccc(F)c(F)c1)C(=O)O',\n",
    "    'Dmf':'COc1ccc(C[C@H](N)C(=O)O)cc1OC',\n",
    "    'Dpf':'CCOP(=O)(Cc1ccc(C[C@H](N)C(=O)O)cc1)OCC',\n",
    "    'Dph':'N[C@H](C(=O)O)C(c1ccccc1)c1ccccc1',\n",
    "    'Git':'N[C@@H](CCCNC(=O)N[C@@H]1O[C@H](CO)[C@H](O)[C@H](O)[C@H]1O)C(=O)O',\n",
    "    'Gln':'NC(=O)CC[C@H](N)C(=O)O',\n",
    "    'Glu':'N[C@@H](CCC(=O)O)C(=O)O',\n",
    "    'Gly':'NCC(=O)O',\n",
    "    'Gph':'N=C(N)Nc1ccc(C[C@H](N)C(=O)O)cc1',\n",
    "    'hAr':'N=C(N)NCCCC[C@H](N)C(=O)O',\n",
    "    'Har':'N=C(N)NCCCC[C@H](N)C(=O)O',\n",
    "    'hCi':'NC(=O)NCCCC[C@H](N)C(=O)O',\n",
    "    'His':'N[C@@H](Cc1cnc[nH]1)C(=O)O',\n",
    "    'hPh':'N[C@@H](CCc1ccccc1)C(=O)O',\n",
    "    'Hyp':'O=C(O)[C@@H]1C[C@@H](O)CN1',\n",
    "    'Ile':'CC[C@H](C)[C@@H](C(=O)O)N',\n",
    "    'Leu':'CC(C)C[C@H](N)C(=O)O',\n",
    "    'Lys':'NCCCC[C@H](N)C(=O)O',\n",
    "    'Met':'CSCC[C@H](N)C(=O)O',\n",
    "    'MfF':'N[C@@H](Cc1cccc(F)c1)C(=O)O',\n",
    "    'Mox':'COCC[C@H](N)C(=O)O',\n",
    "    'Msn':'CS(=O)(=O)CC[C@H](N)C(=O)O',\n",
    "    'Nal':'N[C@@H](Cc1cccc2ccccc12)C(=O)O',\n",
    "    'PfF':'N[C@@H](Cc1c(F)c(F)c(F)c(F)c1F)C(=O)O',\n",
    "    'Phe':'N[C@@H](Cc1ccccc1)C(=O)O',\n",
    "    'Php':'O=C(O)C1(c2ccccc2)CCNCC1',\n",
    "    'Pip':'NC1(C(=O)O)CCNCC1',\n",
    "    'Pro':'O=C(O)[C@@H]1CCCN1',\n",
    "    'Psa':'NC[C@H](NS(=O)(=O)c1ccccc1)C(=O)O',\n",
    "    'pSe':'N[C@@H](COP(=O)(O)O)C(=O)O',\n",
    "    'Pty':'N[C@@H](Cc1ccc(OP(=O)(O)O)cc1)C(=O)O',\n",
    "    'Ser':'N[C@@H](CO)C(=O)O',\n",
    "    'Sty':'N[C@@H](C/C=C/c1ccccc1)C(=O)O',\n",
    "    'Tff':'N[C@@H](Cc1cc(F)c(F)c(F)c1)C(=O)O',\n",
    "    'Tfp':'N[C@@H](Cc1ccc(C(F)(F)F)cc1)C(=O)O',\n",
    "    'Tha':'N[C@@H](Cc1cscn1)C(=O)O',\n",
    "    'Thp':'NC1(C(=O)O)CCOCC1',\n",
    "    'Thr':'C[C@@H](O)[C@H](N)C(=O)O',\n",
    "    'Tic':'O=C(O)[C@@H]1Cc2ccccc2CN1',\n",
    "    'Tle':'CC(C)(C)[C@H](N)C(=O)O',\n",
    "    'Trp':'N[C@@H](Cc1c[nH]c2ccccc12)C(=O)O',\n",
    "    'Tyr':'N[C@@H](Cc1ccc(O)cc1)C(=O)O',\n",
    "    'Val':'CC(C)[C@H](N)C(=O)O',\n",
    "}\n",
    "\n",
    "UNMATCHED_NONCANONICAL_AAS = {\"Aib\",\"Amb\",\"Cpz\",\"Gly\",\"Php\",\"Pip\",\"Psa\",\"Thp\"}"
   ]
  },
  {
   "cell_type": "code",
   "execution_count": 50,
   "metadata": {},
   "outputs": [],
   "source": [
    "def get_amino_acid_backbone(molecule, monomers_aa):\n",
    "    aa_backbone = \"[$([NX3H2,NX4H3+]),$([NX3H](C)(C))][CX4H]([*])[CX3](=[OX1])[OX2H,OX1-,N]\"\n",
    "    # aa_backbone = '[NX3,NX4+][CX4H]([*])[CX3](=[OX1])[O,N]'\n",
    "    aa_pattern = Chem.MolFromSmarts(aa_backbone)\n",
    "    matches = molecule.GetSubstructMatches(aa_pattern)\n",
    "    molecule = Chem.AddHs(molecule) # add Hs after SMARTS matching\n",
    "\n",
    "    match_idx = 0\n",
    "    curr_atoms = 0\n",
    "\n",
    "    output = []\n",
    "    for monomer in monomers_aa:\n",
    "        backbone_indices = {}\n",
    "\n",
    "        monomer_natoms = Chem.MolFromSmiles(NONCANONICAL_SMILES[monomer]).GetNumAtoms()\n",
    "        if monomer in UNMATCHED_NONCANONICAL_AAS:\n",
    "            match = list(range(curr_atoms, curr_atoms+monomer_natoms))\n",
    "        else:\n",
    "            match = matches[match_idx]\n",
    "            match_idx += 1\n",
    "        \n",
    "        curr_atoms += monomer_natoms\n",
    "\n",
    "        if monomer in [\"Pip\", \"Psa\"]: # these monomers have two NHX groups, the NH2 group is the amide forming one\n",
    "            min_NHX = 2\n",
    "        else:\n",
    "            min_NHX = 1\n",
    "        \n",
    "        for atom in match:\n",
    "            atom = molecule.GetAtomWithIdx(atom)\n",
    "            if atom.GetSymbol() == 'N':\n",
    "                H_neighbours = []\n",
    "                for neighbour_atom in atom.GetNeighbors():\n",
    "                    if neighbour_atom.GetSymbol() == 'H':\n",
    "                        H_neighbours.append(neighbour_atom.GetIdx())\n",
    "                if len(H_neighbours) >= min_NHX:\n",
    "                    backbone_indices['NHX'] = [atom.GetIdx()] + H_neighbours\n",
    "            elif atom.GetSymbol() == 'C':\n",
    "                carbonyl_O = None\n",
    "                alcohol_O = None\n",
    "                alcohol_H = None\n",
    "                for neighbour_atom in atom.GetNeighbors():\n",
    "                    if neighbour_atom.GetSymbol() == 'O':\n",
    "                        if len(neighbour_atom.GetNeighbors()) == 1:\n",
    "                            carbonyl_O = neighbour_atom.GetIdx()\n",
    "                        else:\n",
    "                            func_group = sorted([(neighbour.GetSymbol(), neighbour.GetIdx()) for neighbour in neighbour_atom.GetNeighbors()])\n",
    "                            if [x[0] for x in func_group] == ['C', 'H']:\n",
    "                                alcohol_O = neighbour_atom.GetIdx()\n",
    "                                alcohol_H = func_group[1][1]\n",
    "                if (carbonyl_O is not None) and (alcohol_H is not None) and (alcohol_O is not None):\n",
    "                    backbone_indices['COOH'] = [atom.GetIdx(), carbonyl_O, alcohol_O, alcohol_H]\n",
    "        output.append(backbone_indices)\n",
    "    return output"
   ]
  },
  {
   "cell_type": "code",
   "execution_count": 47,
   "metadata": {},
   "outputs": [],
   "source": [
    "def get_peptide(*monomers_aa): \n",
    "    \"\"\"\n",
    "    Grows monomers from N to C terminus.\n",
    "    Monomoers: list of smiles\n",
    "    \"\"\"\n",
    "    monomers = [NONCANONICAL_SMILES[x] for x in monomers_aa]\n",
    "    monomers = [Chem.MolFromSmiles(x) for x in monomers]\n",
    "    molecule = Chem.CombineMols(monomers[0], monomers[1])\n",
    "    for monomer in monomers[2:]:\n",
    "        molecule = Chem.CombineMols(molecule, monomer)\n",
    "\n",
    "    backbone_indexes = get_amino_acid_backbone(molecule, monomers_aa)\n",
    "    assert len(backbone_indexes) == len(monomers), \"num monomers does not match num backbone matches\"\n",
    "    molecule = Chem.AddHs(molecule) # add Hs after SMARTS matching\n",
    "    molecule_edit = Chem.rdchem.EditableMol(molecule)\n",
    "\n",
    "    to_remove = []\n",
    "    for i in range(len(backbone_indexes)-1):\n",
    "        C0, _, O0, H0 = backbone_indexes[i]['COOH']\n",
    "        N1, H1 = backbone_indexes[i+1]['NHX'][:2]\n",
    "\n",
    "        # C(monomer 0)-N(monomer 1) bond\n",
    "        molecule_edit.AddBond(C0, N1, Chem.rdchem.BondType.SINGLE)\n",
    "\n",
    "        # Remove the H from the NH2 group which forms the amide (monomer 1)\n",
    "        # Remove the OH from the carboxylic acid (monomer 0)\n",
    "        to_remove.extend([H1, O0, H0])\n",
    "    # Must remove atoms in reverse order, otherwise the indices will change\n",
    "    for atom in sorted(to_remove, reverse=True):\n",
    "        molecule_edit.RemoveAtom(atom)\n",
    "\n",
    "    peptide = molecule_edit.GetMol()\n",
    "    peptide = Chem.RemoveHs(peptide)\n",
    "    return peptide"
   ]
  },
  {
   "cell_type": "markdown",
   "metadata": {},
   "source": [
    "### SMARTS string does not match these amino acids\n",
    "We will ignore peptides with these for now, in the future need to define SMARTS string / ways to identify the backbone atoms for these"
   ]
  },
  {
   "cell_type": "code",
   "execution_count": 40,
   "metadata": {},
   "outputs": [],
   "source": [
    "error_aas = []\n",
    "for key, smiles in NONCANONICAL_SMILES.items():\n",
    "    backbone = get_amino_acid_backbone(Chem.MolFromSmiles(smiles), [key])\n",
    "    if len(backbone) != 1:\n",
    "        print(key, smiles)\n",
    "        error_aas.append(key)\n",
    "    elif len(backbone[0]) != 2:\n",
    "        print(key, smiles, backbone)"
   ]
  },
  {
   "cell_type": "code",
   "execution_count": 41,
   "metadata": {},
   "outputs": [
    {
     "data": {
      "image/png": "[encoded data removed]",
      "text/plain": [
       "<rdkit.Chem.rdchem.Mol at 0x14e2a8c0e3c0>"
      ]
     },
     "execution_count": 41,
     "metadata": {},
     "output_type": "execute_result"
    }
   ],
   "source": [
    "molecule = Chem.MolFromSmiles(noncanonical_smiles['Cys'])\n",
    "molecule"
   ]
  },
  {
   "cell_type": "markdown",
   "metadata": {},
   "source": [
    "* Aib CC(C)(N)C(=O)O - use all atoms\n",
    "* Amb NCc1ccc(C(=O)O)cc1 - use all atoms\n",
    "* Gly use all atoms\n",
    "* Thp use all atoms\n",
    "* Cpz use all atoms\n",
    "* Php use all atoms\n",
    "\n",
    "These are suspicious\n",
    "* Pip is a little suspicious as there are two amine groups\n",
    "* Psa is a little suspicious as there are two amine groups\n"
   ]
  },
  {
   "cell_type": "code",
   "execution_count": 42,
   "metadata": {},
   "outputs": [],
   "source": [
    "import ast\n",
    "noncanonical_df = pd.read_csv(\"/n/holylabs/LABS/mzitnik_lab/Users/afang/GET/case_studies/wdr_proteins/Noncanonical X12K WDR5 AS-MS Data 3Letter.csv\")\n",
    "noncanonical_df['New_Peptide'] = noncanonical_df['New_Peptide'].apply(ast.literal_eval)"
   ]
  },
  {
   "cell_type": "code",
   "execution_count": 43,
   "metadata": {},
   "outputs": [
    {
     "data": {
      "text/plain": [
       "(742, 742)"
      ]
     },
     "execution_count": 43,
     "metadata": {},
     "output_type": "execute_result"
    }
   ],
   "source": [
    "filtered_nc_peptides = []\n",
    "for peptide in noncanonical_df['New_Peptide']:\n",
    "    if all([aa not in error_aas for aa in peptide]):\n",
    "        filtered_nc_peptides.append(peptide)\n",
    "len(filtered_nc_peptides), len(noncanonical_df['New_Peptide'])"
   ]
  },
  {
   "cell_type": "code",
   "execution_count": 51,
   "metadata": {},
   "outputs": [],
   "source": [
    "filtered_nc_peptides_smiles = []\n",
    "filtered_names = []\n",
    "for peptide in filtered_nc_peptides:\n",
    "    filtered_names.append(\"_\".join(peptide))\n",
    "    filtered_nc_peptides_smiles.append(Chem.MolToSmiles(get_peptide(*peptide)))"
   ]
  },
  {
   "cell_type": "code",
   "execution_count": 52,
   "metadata": {},
   "outputs": [],
   "source": [
    "noncanonical_docking_df = pd.DataFrame({\n",
    "    'complex_name': filtered_names, 'protein_path': ['/n/holylabs/LABS/mzitnik_lab/Users/afang/GET/case_studies/wdr_proteins/6wjq_chain_A.pdb']*len(filtered_names), \n",
    "    'ligand_description': filtered_nc_peptides_smiles, 'protein_sequence': [None]*len(filtered_names)})\n",
    "noncanonical_docking_df.to_csv('/n/holylabs/LABS/mzitnik_lab/Users/afang/GET/case_studies/wdr_proteins/6wjq_chain_A_docking_noncanonical_filtered.csv', index=False)"
   ]
  },
  {
   "cell_type": "code",
   "execution_count": 57,
   "metadata": {},
   "outputs": [
    {
     "data": {
      "image/png": "[encoded data removed]",
      "text/plain": [
       "<rdkit.Chem.rdchem.Mol at 0x14e2a89140b0>"
      ]
     },
     "execution_count": 57,
     "metadata": {},
     "output_type": "execute_result"
    }
   ],
   "source": [
    "import random\n",
    "smiles = random.choice(filtered_nc_peptides_smiles)\n",
    "mol = Chem.MolFromSmiles(smiles)\n",
    "mol"
   ]
  },
  {
   "cell_type": "markdown",
   "metadata": {},
   "source": [
    "# Investigate Docked Structures with DiffDock"
   ]
  },
  {
   "cell_type": "code",
   "execution_count": 1,
   "metadata": {},
   "outputs": [],
   "source": [
    "import glob\n",
    "import pandas as pd\n",
    "\n",
    "# canonical\n",
    "dirs = glob.glob(\"/n/holyscratch01/mzitnik_lab/afang/WDR5_docked/**\")\n",
    "df = pd.read_csv(\"/n/holylabs/LABS/mzitnik_lab/Users/afang/GET/case_studies/wdr_proteins/6wjq_chain_A_docking.csv\")\n",
    "\n",
    "# non-canonical\n",
    "dirs = glob.glob(\"/n/holyscratch01/mzitnik_lab/afang/WDR5_docked_noncanonical/**\")\n",
    "df = pd.read_csv(\"/n/holylabs/LABS/mzitnik_lab/Users/afang/GET/case_studies/wdr_proteins/6wjq_chain_A_docking_noncanonical_filtered.csv\")"
   ]
  },
  {
   "cell_type": "code",
   "execution_count": 2,
   "metadata": {},
   "outputs": [],
   "source": [
    "import os\n",
    "from rdkit import Chem\n",
    "\n",
    "def read_sdf_and_get_coordinates(sdf_file):\n",
    "    # Read the SDF file\n",
    "    supplier = Chem.SDMolSupplier(sdf_file)\n",
    "    molecules = [mol for mol in supplier if mol is not None]\n",
    "\n",
    "    # Dictionary to store coordinates for each molecule\n",
    "    molecule_coordinates = {}\n",
    "\n",
    "    # Iterate through each molecule\n",
    "    for idx, mol in enumerate(molecules):\n",
    "        coords = []\n",
    "        conf = mol.GetConformer()\n",
    "        for atom in mol.GetAtoms():\n",
    "            pos = conf.GetAtomPosition(atom.GetIdx())\n",
    "            coords.append((pos.x, pos.y, pos.z))\n",
    "        molecule_coordinates[f'Molecule_{idx}'] = coords\n",
    "\n",
    "    return molecule_coordinates\n",
    "\n",
    "coords = {}\n",
    "for dir_ in dirs:\n",
    "    files = os.listdir(dir_)\n",
    "    if len(files) > 0:\n",
    "        coords[dir_] = read_sdf_and_get_coordinates(os.path.join(dir_, \"rank1.sdf\"))\n"
   ]
  },
  {
   "cell_type": "code",
   "execution_count": 3,
   "metadata": {},
   "outputs": [],
   "source": [
    "import numpy as np\n",
    "\n",
    "means = {}\n",
    "for key, val in coords.items():\n",
    "    means[key] = np.array(val[\"Molecule_0\"]).mean(axis=0)\n",
    "all_mean = np.array(list(means.values())).mean(axis=0)"
   ]
  },
  {
   "cell_type": "code",
   "execution_count": 4,
   "metadata": {},
   "outputs": [
    {
     "data": {
      "text/plain": [
       "(341, 3)"
      ]
     },
     "execution_count": 4,
     "metadata": {},
     "output_type": "execute_result"
    }
   ],
   "source": [
    "(all_mean - np.array(list(means.values()))).shape"
   ]
  },
  {
   "cell_type": "code",
   "execution_count": 5,
   "metadata": {},
   "outputs": [
    {
     "data": {
      "image/png": "[encoded data removed]",
      "text/plain": [
       "<Figure size 640x480 with 1 Axes>"
      ]
     },
     "metadata": {},
     "output_type": "display_data"
    }
   ],
   "source": [
    "import matplotlib.pyplot as plt\n",
    "plt.hist(np.linalg.norm(all_mean - np.array(list(means.values())), axis=1), bins=200)\n",
    "plt.title(\"Distance to mean docked ligand coordinates for canonical peptides on WDR5\")\n",
    "plt.xlabel(\"Distance\")\n",
    "plt.ylabel(\"Frequency\")\n",
    "plt.show()"
   ]
  },
  {
   "cell_type": "code",
   "execution_count": 6,
   "metadata": {},
   "outputs": [
    {
     "name": "stdout",
     "output_type": "stream",
     "text": [
      "/n/holyscratch01/mzitnik_lab/afang/WDR5_docked_noncanonical/Tfp_Ala_Aze_Amf_Ala_Tyr_Ala_Cxf_Tff_Tic_Asp_Sty_Lys rank10_confidence-4.74.sdf 1.6298504980889341\n",
      "/n/holyscratch01/mzitnik_lab/afang/WDR5_docked_noncanonical/Tfp_Ala_Aze_Amf_Ala_Tyr_Ala_Cxf_Tff_Tic_Asp_Sty_Lys rank1_confidence-4.03.sdf 36.419569958222205\n",
      "/n/holyscratch01/mzitnik_lab/afang/WDR5_docked_noncanonical/Tfp_Ala_Aze_Amf_Ala_Tyr_Ala_Cxf_Tff_Tic_Asp_Sty_Lys rank2_confidence-4.18.sdf 3.497839102890746\n"
     ]
    }
   ],
   "source": [
    "count = 0\n",
    "for key, val in means.items():\n",
    "    dist = np.linalg.norm(val - all_mean)\n",
    "    if dist > 10:\n",
    "        count += 1\n",
    "        files = os.listdir(key)\n",
    "        for file in sorted(files):\n",
    "            if file.startswith(\"rank3\"):\n",
    "                break\n",
    "            if file.endswith(\".sdf\") and \"confidence\" in file:\n",
    "                coords = read_sdf_and_get_coordinates(os.path.join(key, file))\n",
    "                try:\n",
    "                    mean = np.array(coords[\"Molecule_0\"]).mean(axis=0)\n",
    "                    dist = np.linalg.norm(mean - all_mean)\n",
    "                    print(key, file, dist)\n",
    "                except Exception as e:\n",
    "                    print(key, file, e)"
   ]
  },
  {
   "cell_type": "code",
   "execution_count": 13,
   "metadata": {},
   "outputs": [
    {
     "data": {
      "text/plain": [
       "50"
      ]
     },
     "execution_count": 13,
     "metadata": {},
     "output_type": "execute_result"
    }
   ],
   "source": [
    "count"
   ]
  },
  {
   "cell_type": "code",
   "execution_count": null,
   "metadata": {},
   "outputs": [],
   "source": []
  }
 ],
 "metadata": {
  "kernelspec": {
   "display_name": "Python 3",
   "language": "python",
   "name": "python3"
  },
  "language_info": {
   "codemirror_mode": {
    "name": "ipython",
    "version": 3
   },
   "file_extension": ".py",
   "mimetype": "text/x-python",
   "name": "python",
   "nbconvert_exporter": "python",
   "pygments_lexer": "ipython3",
   "version": "3.9.15"
  }
 },
 "nbformat": 4,
 "nbformat_minor": 2
}
